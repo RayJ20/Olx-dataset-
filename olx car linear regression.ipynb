{
 "cells": [
  {
   "cell_type": "code",
   "execution_count": 1,
   "id": "28961a4a",
   "metadata": {},
   "outputs": [],
   "source": [
    "import numpy as np\n",
    "import pandas as pd\n",
    "import seaborn as sns\n",
    "import matplotlib.pyplot as plt\n",
    "%matplotlib inline"
   ]
  },
  {
   "cell_type": "code",
   "execution_count": 2,
   "id": "66e80cfc",
   "metadata": {},
   "outputs": [],
   "source": [
    "df=pd.read_csv('OLX_cars_dataset00.csv')"
   ]
  },
  {
   "cell_type": "code",
   "execution_count": 3,
   "id": "fa86dd43",
   "metadata": {},
   "outputs": [
    {
     "data": {
      "text/html": [
       "<div>\n",
       "<style scoped>\n",
       "    .dataframe tbody tr th:only-of-type {\n",
       "        vertical-align: middle;\n",
       "    }\n",
       "\n",
       "    .dataframe tbody tr th {\n",
       "        vertical-align: top;\n",
       "    }\n",
       "\n",
       "    .dataframe thead th {\n",
       "        text-align: right;\n",
       "    }\n",
       "</style>\n",
       "<table border=\"1\" class=\"dataframe\">\n",
       "  <thead>\n",
       "    <tr style=\"text-align: right;\">\n",
       "      <th></th>\n",
       "      <th>Ad ID</th>\n",
       "      <th>Car Name</th>\n",
       "      <th>Make</th>\n",
       "      <th>Model</th>\n",
       "      <th>Year</th>\n",
       "      <th>KM's driven</th>\n",
       "      <th>Price</th>\n",
       "      <th>Fuel</th>\n",
       "      <th>Registration city</th>\n",
       "      <th>Car documents</th>\n",
       "      <th>Assembly</th>\n",
       "      <th>Transmission</th>\n",
       "      <th>Condition</th>\n",
       "      <th>Seller Location</th>\n",
       "      <th>Description</th>\n",
       "      <th>Car Features</th>\n",
       "      <th>Images URL's</th>\n",
       "      <th>Car Profile</th>\n",
       "    </tr>\n",
       "  </thead>\n",
       "  <tbody>\n",
       "    <tr>\n",
       "      <th>0</th>\n",
       "      <td>1079071571</td>\n",
       "      <td>fresh import Passo 2021model</td>\n",
       "      <td>Toyota</td>\n",
       "      <td>Passo</td>\n",
       "      <td>2021</td>\n",
       "      <td>54000</td>\n",
       "      <td>4190000</td>\n",
       "      <td>Petrol</td>\n",
       "      <td>Unregistered</td>\n",
       "      <td>Original</td>\n",
       "      <td>Imported</td>\n",
       "      <td>Automatic</td>\n",
       "      <td>Used</td>\n",
       "      <td>Airline Avenue, Islamabad</td>\n",
       "      <td>it's 2021 model fresh import, perfect engine s...</td>\n",
       "      <td>ABS, Air Bags, AM/FM Radio, CD Player, Cassett...</td>\n",
       "      <td>['https://images.olx.com.pk/thumbnails/4039460...</td>\n",
       "      <td>https://www.olx.com.pk/item/fresh-import-passo...</td>\n",
       "    </tr>\n",
       "    <tr>\n",
       "      <th>1</th>\n",
       "      <td>1080125520</td>\n",
       "      <td>Suzuki ravi</td>\n",
       "      <td>Suzuki</td>\n",
       "      <td>Ravi</td>\n",
       "      <td>2018</td>\n",
       "      <td>95000</td>\n",
       "      <td>1300000</td>\n",
       "      <td>Petrol</td>\n",
       "      <td>Karachi</td>\n",
       "      <td>Original</td>\n",
       "      <td>Local</td>\n",
       "      <td>Manual</td>\n",
       "      <td>Used</td>\n",
       "      <td>Kahuta, Rawalpindi</td>\n",
       "      <td>Suzuki ravi 2018 col</td>\n",
       "      <td>AM/FM Radio</td>\n",
       "      <td>['https://images.olx.com.pk/thumbnails/4102504...</td>\n",
       "      <td>https://www.olx.com.pk/item/suzuki-ravi-iid-10...</td>\n",
       "    </tr>\n",
       "    <tr>\n",
       "      <th>2</th>\n",
       "      <td>1080748789</td>\n",
       "      <td>Suzuki bolan 2015 contact 03112271054</td>\n",
       "      <td>Suzuki</td>\n",
       "      <td>Bolan</td>\n",
       "      <td>2015</td>\n",
       "      <td>50000</td>\n",
       "      <td>800000</td>\n",
       "      <td>Petrol</td>\n",
       "      <td>Karachi</td>\n",
       "      <td>Original</td>\n",
       "      <td>Local</td>\n",
       "      <td>Manual</td>\n",
       "      <td>Used</td>\n",
       "      <td>Lyari Expressway, Karachi</td>\n",
       "      <td>Suzuki bolan model 2015 reg 2022 ghadi me koi ...</td>\n",
       "      <td>Rear speakers</td>\n",
       "      <td>['https://images.olx.com.pk/thumbnails/4139520...</td>\n",
       "      <td>https://www.olx.com.pk/item/suzuki-bolan-2015-...</td>\n",
       "    </tr>\n",
       "    <tr>\n",
       "      <th>3</th>\n",
       "      <td>1076081635</td>\n",
       "      <td>Diahatsu Move 2013</td>\n",
       "      <td>Daihatsu</td>\n",
       "      <td>Move</td>\n",
       "      <td>2013</td>\n",
       "      <td>94000</td>\n",
       "      <td>2155000</td>\n",
       "      <td>Petrol</td>\n",
       "      <td>Lahore</td>\n",
       "      <td>Original</td>\n",
       "      <td>Imported</td>\n",
       "      <td>Automatic</td>\n",
       "      <td>Used</td>\n",
       "      <td>New Amir Town, Lahore</td>\n",
       "      <td>Move Push start \\nHome Used car. \\nModel 2013....</td>\n",
       "      <td>ABS, Air Bags, Air Conditioning, Alloy Rims, A...</td>\n",
       "      <td>['https://images.olx.com.pk/thumbnails/3865337...</td>\n",
       "      <td>https://www.olx.com.pk/item/diahatsu-move-2013...</td>\n",
       "    </tr>\n",
       "    <tr>\n",
       "      <th>4</th>\n",
       "      <td>1080812928</td>\n",
       "      <td>Suzuki Swift DLX 2011 miner tuchap</td>\n",
       "      <td>Suzuki</td>\n",
       "      <td>Swift</td>\n",
       "      <td>2011</td>\n",
       "      <td>126544</td>\n",
       "      <td>1440000</td>\n",
       "      <td>Petrol</td>\n",
       "      <td>Karachi</td>\n",
       "      <td>Original</td>\n",
       "      <td>Local</td>\n",
       "      <td>Manual</td>\n",
       "      <td>Used</td>\n",
       "      <td>Shadman 2, Karachi</td>\n",
       "      <td>Suzuki Swift DLX\\nAbS Break 100%\\nengine 100%\\...</td>\n",
       "      <td>ABS, Air Conditioning, Alloy Rims, AM/FM Radio...</td>\n",
       "      <td>['https://images.olx.com.pk/thumbnails/4143509...</td>\n",
       "      <td>https://www.olx.com.pk/item/suzuki-swift-dlx-2...</td>\n",
       "    </tr>\n",
       "  </tbody>\n",
       "</table>\n",
       "</div>"
      ],
      "text/plain": [
       "        Ad ID                               Car Name      Make  Model  Year  \\\n",
       "0  1079071571           fresh import Passo 2021model    Toyota  Passo  2021   \n",
       "1  1080125520                            Suzuki ravi    Suzuki   Ravi  2018   \n",
       "2  1080748789  Suzuki bolan 2015 contact 03112271054    Suzuki  Bolan  2015   \n",
       "3  1076081635                     Diahatsu Move 2013  Daihatsu   Move  2013   \n",
       "4  1080812928     Suzuki Swift DLX 2011 miner tuchap    Suzuki  Swift  2011   \n",
       "\n",
       "   KM's driven    Price    Fuel Registration city Car documents  Assembly  \\\n",
       "0        54000  4190000  Petrol      Unregistered      Original  Imported   \n",
       "1        95000  1300000  Petrol           Karachi      Original     Local   \n",
       "2        50000   800000  Petrol           Karachi      Original     Local   \n",
       "3        94000  2155000  Petrol            Lahore      Original  Imported   \n",
       "4       126544  1440000  Petrol           Karachi      Original     Local   \n",
       "\n",
       "  Transmission Condition            Seller Location  \\\n",
       "0    Automatic      Used  Airline Avenue, Islamabad   \n",
       "1       Manual      Used         Kahuta, Rawalpindi   \n",
       "2       Manual      Used  Lyari Expressway, Karachi   \n",
       "3    Automatic      Used      New Amir Town, Lahore   \n",
       "4       Manual      Used         Shadman 2, Karachi   \n",
       "\n",
       "                                         Description  \\\n",
       "0  it's 2021 model fresh import, perfect engine s...   \n",
       "1                              Suzuki ravi 2018 col    \n",
       "2  Suzuki bolan model 2015 reg 2022 ghadi me koi ...   \n",
       "3  Move Push start \\nHome Used car. \\nModel 2013....   \n",
       "4  Suzuki Swift DLX\\nAbS Break 100%\\nengine 100%\\...   \n",
       "\n",
       "                                        Car Features  \\\n",
       "0  ABS, Air Bags, AM/FM Radio, CD Player, Cassett...   \n",
       "1                                        AM/FM Radio   \n",
       "2                                      Rear speakers   \n",
       "3  ABS, Air Bags, Air Conditioning, Alloy Rims, A...   \n",
       "4  ABS, Air Conditioning, Alloy Rims, AM/FM Radio...   \n",
       "\n",
       "                                        Images URL's  \\\n",
       "0  ['https://images.olx.com.pk/thumbnails/4039460...   \n",
       "1  ['https://images.olx.com.pk/thumbnails/4102504...   \n",
       "2  ['https://images.olx.com.pk/thumbnails/4139520...   \n",
       "3  ['https://images.olx.com.pk/thumbnails/3865337...   \n",
       "4  ['https://images.olx.com.pk/thumbnails/4143509...   \n",
       "\n",
       "                                         Car Profile  \n",
       "0  https://www.olx.com.pk/item/fresh-import-passo...  \n",
       "1  https://www.olx.com.pk/item/suzuki-ravi-iid-10...  \n",
       "2  https://www.olx.com.pk/item/suzuki-bolan-2015-...  \n",
       "3  https://www.olx.com.pk/item/diahatsu-move-2013...  \n",
       "4  https://www.olx.com.pk/item/suzuki-swift-dlx-2...  "
      ]
     },
     "execution_count": 3,
     "metadata": {},
     "output_type": "execute_result"
    }
   ],
   "source": [
    "df.head()"
   ]
  },
  {
   "cell_type": "code",
   "execution_count": 4,
   "id": "757d01bf",
   "metadata": {},
   "outputs": [
    {
     "data": {
      "text/plain": [
       "Ad ID                  0\n",
       "Car Name               0\n",
       "Make                   0\n",
       "Model                  0\n",
       "Year                   0\n",
       "KM's driven            0\n",
       "Price                  0\n",
       "Fuel                   0\n",
       "Registration city      0\n",
       "Car documents          0\n",
       "Assembly               0\n",
       "Transmission           0\n",
       "Condition              0\n",
       "Seller Location        0\n",
       "Description            0\n",
       "Car Features           0\n",
       "Images URL's           0\n",
       "Car Profile          458\n",
       "dtype: int64"
      ]
     },
     "execution_count": 4,
     "metadata": {},
     "output_type": "execute_result"
    }
   ],
   "source": [
    "df.isnull().sum()"
   ]
  },
  {
   "cell_type": "code",
   "execution_count": 5,
   "id": "85a6d6c4",
   "metadata": {},
   "outputs": [
    {
     "data": {
      "text/plain": [
       "(9179, 18)"
      ]
     },
     "execution_count": 5,
     "metadata": {},
     "output_type": "execute_result"
    }
   ],
   "source": [
    "df.shape"
   ]
  },
  {
   "cell_type": "code",
   "execution_count": 6,
   "id": "c7245cc0",
   "metadata": {},
   "outputs": [
    {
     "data": {
      "text/plain": [
       "Index(['Ad ID', 'Car Name', 'Make', 'Model', 'Year', 'KM's driven', 'Price',\n",
       "       'Fuel', 'Registration city', 'Car documents', 'Assembly',\n",
       "       'Transmission', 'Condition', 'Seller Location', 'Description',\n",
       "       'Car Features', 'Images URL's', 'Car Profile'],\n",
       "      dtype='object')"
      ]
     },
     "execution_count": 6,
     "metadata": {},
     "output_type": "execute_result"
    }
   ],
   "source": [
    "df.columns"
   ]
  },
  {
   "cell_type": "code",
   "execution_count": 7,
   "id": "28f951cc",
   "metadata": {},
   "outputs": [
    {
     "data": {
      "text/plain": [
       "array(['Toyota', 'Suzuki', 'Daihatsu', 'Honda', 'Hyundai', 'Mitsubishi',\n",
       "       'KIA', 'Changan', 'FAW', 'Mercedes', 'Chevrolet'], dtype=object)"
      ]
     },
     "execution_count": 7,
     "metadata": {},
     "output_type": "execute_result"
    }
   ],
   "source": [
    "df['Make'].unique()"
   ]
  },
  {
   "cell_type": "code",
   "execution_count": 8,
   "id": "d65480b8",
   "metadata": {},
   "outputs": [],
   "source": [
    "df['Make']=df['Make'].map({'Toyota':0, 'Suzuki':1, 'Daihatsu':2, 'Honda':3, 'Hyundai':4, 'Mitsubishi':5,\n",
    "       'KIA':6, 'Changan':7, 'FAW':8, 'Mercedes':9, 'Chevrolet':10})"
   ]
  },
  {
   "cell_type": "code",
   "execution_count": 9,
   "id": "c92da31e",
   "metadata": {},
   "outputs": [],
   "source": [
    "df['Make']=df['Make'].astype(int)"
   ]
  },
  {
   "cell_type": "code",
   "execution_count": 10,
   "id": "47e62ba9",
   "metadata": {},
   "outputs": [
    {
     "name": "stdout",
     "output_type": "stream",
     "text": [
      "<class 'pandas.core.frame.DataFrame'>\n",
      "RangeIndex: 9179 entries, 0 to 9178\n",
      "Data columns (total 18 columns):\n",
      " #   Column             Non-Null Count  Dtype \n",
      "---  ------             --------------  ----- \n",
      " 0   Ad ID              9179 non-null   int64 \n",
      " 1   Car Name           9179 non-null   object\n",
      " 2   Make               9179 non-null   int32 \n",
      " 3   Model              9179 non-null   object\n",
      " 4   Year               9179 non-null   int64 \n",
      " 5   KM's driven        9179 non-null   int64 \n",
      " 6   Price              9179 non-null   int64 \n",
      " 7   Fuel               9179 non-null   object\n",
      " 8   Registration city  9179 non-null   object\n",
      " 9   Car documents      9179 non-null   object\n",
      " 10  Assembly           9179 non-null   object\n",
      " 11  Transmission       9179 non-null   object\n",
      " 12  Condition          9179 non-null   object\n",
      " 13  Seller Location    9179 non-null   object\n",
      " 14  Description        9179 non-null   object\n",
      " 15  Car Features       9179 non-null   object\n",
      " 16  Images URL's       9179 non-null   object\n",
      " 17  Car Profile        8721 non-null   object\n",
      "dtypes: int32(1), int64(4), object(13)\n",
      "memory usage: 1.2+ MB\n"
     ]
    }
   ],
   "source": [
    "df.info()"
   ]
  },
  {
   "cell_type": "code",
   "execution_count": 11,
   "id": "3f52dc1e",
   "metadata": {},
   "outputs": [
    {
     "data": {
      "text/html": [
       "<div>\n",
       "<style scoped>\n",
       "    .dataframe tbody tr th:only-of-type {\n",
       "        vertical-align: middle;\n",
       "    }\n",
       "\n",
       "    .dataframe tbody tr th {\n",
       "        vertical-align: top;\n",
       "    }\n",
       "\n",
       "    .dataframe thead th {\n",
       "        text-align: right;\n",
       "    }\n",
       "</style>\n",
       "<table border=\"1\" class=\"dataframe\">\n",
       "  <thead>\n",
       "    <tr style=\"text-align: right;\">\n",
       "      <th></th>\n",
       "      <th>Ad ID</th>\n",
       "      <th>Car Name</th>\n",
       "      <th>Make</th>\n",
       "      <th>Model</th>\n",
       "      <th>Year</th>\n",
       "      <th>KM's driven</th>\n",
       "      <th>Price</th>\n",
       "      <th>Fuel</th>\n",
       "      <th>Registration city</th>\n",
       "      <th>Car documents</th>\n",
       "      <th>Assembly</th>\n",
       "      <th>Transmission</th>\n",
       "      <th>Condition</th>\n",
       "      <th>Seller Location</th>\n",
       "      <th>Description</th>\n",
       "      <th>Car Features</th>\n",
       "      <th>Images URL's</th>\n",
       "      <th>Car Profile</th>\n",
       "    </tr>\n",
       "  </thead>\n",
       "  <tbody>\n",
       "    <tr>\n",
       "      <th>0</th>\n",
       "      <td>1079071571</td>\n",
       "      <td>fresh import Passo 2021model</td>\n",
       "      <td>0</td>\n",
       "      <td>Passo</td>\n",
       "      <td>2021</td>\n",
       "      <td>54000</td>\n",
       "      <td>4190000</td>\n",
       "      <td>Petrol</td>\n",
       "      <td>Unregistered</td>\n",
       "      <td>Original</td>\n",
       "      <td>Imported</td>\n",
       "      <td>Automatic</td>\n",
       "      <td>Used</td>\n",
       "      <td>Airline Avenue, Islamabad</td>\n",
       "      <td>it's 2021 model fresh import, perfect engine s...</td>\n",
       "      <td>ABS, Air Bags, AM/FM Radio, CD Player, Cassett...</td>\n",
       "      <td>['https://images.olx.com.pk/thumbnails/4039460...</td>\n",
       "      <td>https://www.olx.com.pk/item/fresh-import-passo...</td>\n",
       "    </tr>\n",
       "    <tr>\n",
       "      <th>1</th>\n",
       "      <td>1080125520</td>\n",
       "      <td>Suzuki ravi</td>\n",
       "      <td>1</td>\n",
       "      <td>Ravi</td>\n",
       "      <td>2018</td>\n",
       "      <td>95000</td>\n",
       "      <td>1300000</td>\n",
       "      <td>Petrol</td>\n",
       "      <td>Karachi</td>\n",
       "      <td>Original</td>\n",
       "      <td>Local</td>\n",
       "      <td>Manual</td>\n",
       "      <td>Used</td>\n",
       "      <td>Kahuta, Rawalpindi</td>\n",
       "      <td>Suzuki ravi 2018 col</td>\n",
       "      <td>AM/FM Radio</td>\n",
       "      <td>['https://images.olx.com.pk/thumbnails/4102504...</td>\n",
       "      <td>https://www.olx.com.pk/item/suzuki-ravi-iid-10...</td>\n",
       "    </tr>\n",
       "    <tr>\n",
       "      <th>2</th>\n",
       "      <td>1080748789</td>\n",
       "      <td>Suzuki bolan 2015 contact 03112271054</td>\n",
       "      <td>1</td>\n",
       "      <td>Bolan</td>\n",
       "      <td>2015</td>\n",
       "      <td>50000</td>\n",
       "      <td>800000</td>\n",
       "      <td>Petrol</td>\n",
       "      <td>Karachi</td>\n",
       "      <td>Original</td>\n",
       "      <td>Local</td>\n",
       "      <td>Manual</td>\n",
       "      <td>Used</td>\n",
       "      <td>Lyari Expressway, Karachi</td>\n",
       "      <td>Suzuki bolan model 2015 reg 2022 ghadi me koi ...</td>\n",
       "      <td>Rear speakers</td>\n",
       "      <td>['https://images.olx.com.pk/thumbnails/4139520...</td>\n",
       "      <td>https://www.olx.com.pk/item/suzuki-bolan-2015-...</td>\n",
       "    </tr>\n",
       "    <tr>\n",
       "      <th>3</th>\n",
       "      <td>1076081635</td>\n",
       "      <td>Diahatsu Move 2013</td>\n",
       "      <td>2</td>\n",
       "      <td>Move</td>\n",
       "      <td>2013</td>\n",
       "      <td>94000</td>\n",
       "      <td>2155000</td>\n",
       "      <td>Petrol</td>\n",
       "      <td>Lahore</td>\n",
       "      <td>Original</td>\n",
       "      <td>Imported</td>\n",
       "      <td>Automatic</td>\n",
       "      <td>Used</td>\n",
       "      <td>New Amir Town, Lahore</td>\n",
       "      <td>Move Push start \\nHome Used car. \\nModel 2013....</td>\n",
       "      <td>ABS, Air Bags, Air Conditioning, Alloy Rims, A...</td>\n",
       "      <td>['https://images.olx.com.pk/thumbnails/3865337...</td>\n",
       "      <td>https://www.olx.com.pk/item/diahatsu-move-2013...</td>\n",
       "    </tr>\n",
       "    <tr>\n",
       "      <th>4</th>\n",
       "      <td>1080812928</td>\n",
       "      <td>Suzuki Swift DLX 2011 miner tuchap</td>\n",
       "      <td>1</td>\n",
       "      <td>Swift</td>\n",
       "      <td>2011</td>\n",
       "      <td>126544</td>\n",
       "      <td>1440000</td>\n",
       "      <td>Petrol</td>\n",
       "      <td>Karachi</td>\n",
       "      <td>Original</td>\n",
       "      <td>Local</td>\n",
       "      <td>Manual</td>\n",
       "      <td>Used</td>\n",
       "      <td>Shadman 2, Karachi</td>\n",
       "      <td>Suzuki Swift DLX\\nAbS Break 100%\\nengine 100%\\...</td>\n",
       "      <td>ABS, Air Conditioning, Alloy Rims, AM/FM Radio...</td>\n",
       "      <td>['https://images.olx.com.pk/thumbnails/4143509...</td>\n",
       "      <td>https://www.olx.com.pk/item/suzuki-swift-dlx-2...</td>\n",
       "    </tr>\n",
       "  </tbody>\n",
       "</table>\n",
       "</div>"
      ],
      "text/plain": [
       "        Ad ID                               Car Name  Make  Model  Year  \\\n",
       "0  1079071571           fresh import Passo 2021model     0  Passo  2021   \n",
       "1  1080125520                            Suzuki ravi     1   Ravi  2018   \n",
       "2  1080748789  Suzuki bolan 2015 contact 03112271054     1  Bolan  2015   \n",
       "3  1076081635                     Diahatsu Move 2013     2   Move  2013   \n",
       "4  1080812928     Suzuki Swift DLX 2011 miner tuchap     1  Swift  2011   \n",
       "\n",
       "   KM's driven    Price    Fuel Registration city Car documents  Assembly  \\\n",
       "0        54000  4190000  Petrol      Unregistered      Original  Imported   \n",
       "1        95000  1300000  Petrol           Karachi      Original     Local   \n",
       "2        50000   800000  Petrol           Karachi      Original     Local   \n",
       "3        94000  2155000  Petrol            Lahore      Original  Imported   \n",
       "4       126544  1440000  Petrol           Karachi      Original     Local   \n",
       "\n",
       "  Transmission Condition            Seller Location  \\\n",
       "0    Automatic      Used  Airline Avenue, Islamabad   \n",
       "1       Manual      Used         Kahuta, Rawalpindi   \n",
       "2       Manual      Used  Lyari Expressway, Karachi   \n",
       "3    Automatic      Used      New Amir Town, Lahore   \n",
       "4       Manual      Used         Shadman 2, Karachi   \n",
       "\n",
       "                                         Description  \\\n",
       "0  it's 2021 model fresh import, perfect engine s...   \n",
       "1                              Suzuki ravi 2018 col    \n",
       "2  Suzuki bolan model 2015 reg 2022 ghadi me koi ...   \n",
       "3  Move Push start \\nHome Used car. \\nModel 2013....   \n",
       "4  Suzuki Swift DLX\\nAbS Break 100%\\nengine 100%\\...   \n",
       "\n",
       "                                        Car Features  \\\n",
       "0  ABS, Air Bags, AM/FM Radio, CD Player, Cassett...   \n",
       "1                                        AM/FM Radio   \n",
       "2                                      Rear speakers   \n",
       "3  ABS, Air Bags, Air Conditioning, Alloy Rims, A...   \n",
       "4  ABS, Air Conditioning, Alloy Rims, AM/FM Radio...   \n",
       "\n",
       "                                        Images URL's  \\\n",
       "0  ['https://images.olx.com.pk/thumbnails/4039460...   \n",
       "1  ['https://images.olx.com.pk/thumbnails/4102504...   \n",
       "2  ['https://images.olx.com.pk/thumbnails/4139520...   \n",
       "3  ['https://images.olx.com.pk/thumbnails/3865337...   \n",
       "4  ['https://images.olx.com.pk/thumbnails/4143509...   \n",
       "\n",
       "                                         Car Profile  \n",
       "0  https://www.olx.com.pk/item/fresh-import-passo...  \n",
       "1  https://www.olx.com.pk/item/suzuki-ravi-iid-10...  \n",
       "2  https://www.olx.com.pk/item/suzuki-bolan-2015-...  \n",
       "3  https://www.olx.com.pk/item/diahatsu-move-2013...  \n",
       "4  https://www.olx.com.pk/item/suzuki-swift-dlx-2...  "
      ]
     },
     "execution_count": 11,
     "metadata": {},
     "output_type": "execute_result"
    }
   ],
   "source": [
    "df.head()"
   ]
  },
  {
   "cell_type": "code",
   "execution_count": 12,
   "id": "bedf3628",
   "metadata": {},
   "outputs": [
    {
     "data": {
      "text/plain": [
       "array(['Passo', 'Ravi', 'Bolan', 'Move', 'Swift', 'Wagon R', 'Mira',\n",
       "       'City IDSI', 'Cultus VXR', 'Every', 'Corolla XLI', 'Baleno',\n",
       "       'City Vario', 'Terios Kid', 'Civic Prosmetic', 'City IVTEC',\n",
       "       'Santro', 'Corrolla Altis', 'City Aspire', 'Mehran VXR', 'Cuore',\n",
       "       'Pajero Mini', 'Picanto', 'Alto', 'Karvaan', 'X-PV', 'Hijet',\n",
       "       'Ek Wagon', 'Altis Grande', 'E Class', 'Yaris', 'Lancer',\n",
       "       'Corolla GLI', 'Joy', 'Civic Oriel', 'Classic', 'Spectra', 'V2',\n",
       "       'Minicab Bravo', 'Corolla Assista', 'Alsvin', 'C Class', 'Minica',\n",
       "       'Exclusive', 'Civic VTi', 'Cervo', 'Sportage', 'Corolla Axio',\n",
       "       'Every Wagon', 'Liana', 'Civic EXi', 'Surf', 'Mehran VX',\n",
       "       'Civic VTi Oriel', 'Khyber', 'Cultus VXL', 'Prius', 'ISIS'],\n",
       "      dtype=object)"
      ]
     },
     "execution_count": 12,
     "metadata": {},
     "output_type": "execute_result"
    }
   ],
   "source": [
    "df['Model'].unique()"
   ]
  },
  {
   "cell_type": "code",
   "execution_count": 13,
   "id": "c6757ebf",
   "metadata": {},
   "outputs": [],
   "source": [
    "df['Model']=df['Model'].map({'Passo':0, 'Ravi':1, 'Bolan':2, 'Move':3, 'Swift':4, 'Wagon R':5, 'Mira':6,\n",
    "       'City IDSI':7, 'Cultus VXR':8, 'Every':9, 'Corolla XLI':10, 'Baleno':11,\n",
    "       'City Vario':12, 'Terios Kid':13, 'Civic Prosmetic':14, 'City IVTEC':15,\n",
    "       'Santro':16, 'Corrolla Altis':17, 'City Aspire':18, 'Mehran VXR':19, 'Cuore':20,\n",
    "       'Pajero Mini':21, 'Picanto':22, 'Alto':23, 'Karvaan':24, 'X-PV':25, 'Hijet':26,\n",
    "       'Ek Wagon':27, 'Altis Grande':28, 'E Class':29, 'Yaris':30, 'Lancer':31,\n",
    "       'Corolla GLI':32, 'Joy':33, 'Civic Oriel':34, 'Classic':35, 'Spectra':36, 'V2':37,\n",
    "       'Minicab Bravo':38, 'Corolla Assista':39, 'Alsvin':40, 'C Class':41, 'Minica':42,\n",
    "       'Exclusive':43, 'Civic VTi':44, 'Cervo':45, 'Sportage':46, 'Corolla Axio':47,\n",
    "       'Every Wagon':48, 'Liana':49, 'Civic EXi':50, 'Surf':51, 'Mehran VX':52,\n",
    "       'Civic VTi Oriel':53, 'Khyber':54, 'Cultus VXL':55, 'Prius':56, 'ISIS':57})"
   ]
  },
  {
   "cell_type": "code",
   "execution_count": 14,
   "id": "6a7ffa78",
   "metadata": {},
   "outputs": [
    {
     "data": {
      "text/plain": [
       "array([ 0,  1,  2,  3,  4,  5,  6,  7,  8,  9, 10, 11, 12, 13, 14, 15, 16,\n",
       "       17, 18, 19, 20, 21, 22, 23, 24, 25, 26, 27, 28, 29, 30, 31, 32, 33,\n",
       "       34, 35, 36, 37, 38, 39, 40, 41, 42, 43, 44, 45, 46, 47, 48, 49, 50,\n",
       "       51, 52, 53, 54, 55, 56, 57], dtype=int64)"
      ]
     },
     "execution_count": 14,
     "metadata": {},
     "output_type": "execute_result"
    }
   ],
   "source": [
    "df.Model.unique()"
   ]
  },
  {
   "cell_type": "code",
   "execution_count": 15,
   "id": "2e3b9a57",
   "metadata": {},
   "outputs": [
    {
     "name": "stdout",
     "output_type": "stream",
     "text": [
      "<class 'pandas.core.frame.DataFrame'>\n",
      "RangeIndex: 9179 entries, 0 to 9178\n",
      "Data columns (total 18 columns):\n",
      " #   Column             Non-Null Count  Dtype \n",
      "---  ------             --------------  ----- \n",
      " 0   Ad ID              9179 non-null   int64 \n",
      " 1   Car Name           9179 non-null   object\n",
      " 2   Make               9179 non-null   int32 \n",
      " 3   Model              9179 non-null   int64 \n",
      " 4   Year               9179 non-null   int64 \n",
      " 5   KM's driven        9179 non-null   int64 \n",
      " 6   Price              9179 non-null   int64 \n",
      " 7   Fuel               9179 non-null   object\n",
      " 8   Registration city  9179 non-null   object\n",
      " 9   Car documents      9179 non-null   object\n",
      " 10  Assembly           9179 non-null   object\n",
      " 11  Transmission       9179 non-null   object\n",
      " 12  Condition          9179 non-null   object\n",
      " 13  Seller Location    9179 non-null   object\n",
      " 14  Description        9179 non-null   object\n",
      " 15  Car Features       9179 non-null   object\n",
      " 16  Images URL's       9179 non-null   object\n",
      " 17  Car Profile        8721 non-null   object\n",
      "dtypes: int32(1), int64(5), object(12)\n",
      "memory usage: 1.2+ MB\n"
     ]
    }
   ],
   "source": [
    "df.info()"
   ]
  },
  {
   "cell_type": "code",
   "execution_count": 16,
   "id": "e6214536",
   "metadata": {},
   "outputs": [
    {
     "data": {
      "text/html": [
       "<div>\n",
       "<style scoped>\n",
       "    .dataframe tbody tr th:only-of-type {\n",
       "        vertical-align: middle;\n",
       "    }\n",
       "\n",
       "    .dataframe tbody tr th {\n",
       "        vertical-align: top;\n",
       "    }\n",
       "\n",
       "    .dataframe thead th {\n",
       "        text-align: right;\n",
       "    }\n",
       "</style>\n",
       "<table border=\"1\" class=\"dataframe\">\n",
       "  <thead>\n",
       "    <tr style=\"text-align: right;\">\n",
       "      <th></th>\n",
       "      <th>Ad ID</th>\n",
       "      <th>Car Name</th>\n",
       "      <th>Make</th>\n",
       "      <th>Model</th>\n",
       "      <th>Year</th>\n",
       "      <th>KM's driven</th>\n",
       "      <th>Price</th>\n",
       "      <th>Fuel</th>\n",
       "      <th>Registration city</th>\n",
       "      <th>Car documents</th>\n",
       "      <th>Assembly</th>\n",
       "      <th>Transmission</th>\n",
       "      <th>Condition</th>\n",
       "      <th>Seller Location</th>\n",
       "      <th>Description</th>\n",
       "      <th>Car Features</th>\n",
       "      <th>Images URL's</th>\n",
       "      <th>Car Profile</th>\n",
       "    </tr>\n",
       "  </thead>\n",
       "  <tbody>\n",
       "    <tr>\n",
       "      <th>0</th>\n",
       "      <td>1079071571</td>\n",
       "      <td>fresh import Passo 2021model</td>\n",
       "      <td>0</td>\n",
       "      <td>0</td>\n",
       "      <td>2021</td>\n",
       "      <td>54000</td>\n",
       "      <td>4190000</td>\n",
       "      <td>Petrol</td>\n",
       "      <td>Unregistered</td>\n",
       "      <td>Original</td>\n",
       "      <td>Imported</td>\n",
       "      <td>Automatic</td>\n",
       "      <td>Used</td>\n",
       "      <td>Airline Avenue, Islamabad</td>\n",
       "      <td>it's 2021 model fresh import, perfect engine s...</td>\n",
       "      <td>ABS, Air Bags, AM/FM Radio, CD Player, Cassett...</td>\n",
       "      <td>['https://images.olx.com.pk/thumbnails/4039460...</td>\n",
       "      <td>https://www.olx.com.pk/item/fresh-import-passo...</td>\n",
       "    </tr>\n",
       "    <tr>\n",
       "      <th>1</th>\n",
       "      <td>1080125520</td>\n",
       "      <td>Suzuki ravi</td>\n",
       "      <td>1</td>\n",
       "      <td>1</td>\n",
       "      <td>2018</td>\n",
       "      <td>95000</td>\n",
       "      <td>1300000</td>\n",
       "      <td>Petrol</td>\n",
       "      <td>Karachi</td>\n",
       "      <td>Original</td>\n",
       "      <td>Local</td>\n",
       "      <td>Manual</td>\n",
       "      <td>Used</td>\n",
       "      <td>Kahuta, Rawalpindi</td>\n",
       "      <td>Suzuki ravi 2018 col</td>\n",
       "      <td>AM/FM Radio</td>\n",
       "      <td>['https://images.olx.com.pk/thumbnails/4102504...</td>\n",
       "      <td>https://www.olx.com.pk/item/suzuki-ravi-iid-10...</td>\n",
       "    </tr>\n",
       "    <tr>\n",
       "      <th>2</th>\n",
       "      <td>1080748789</td>\n",
       "      <td>Suzuki bolan 2015 contact 03112271054</td>\n",
       "      <td>1</td>\n",
       "      <td>2</td>\n",
       "      <td>2015</td>\n",
       "      <td>50000</td>\n",
       "      <td>800000</td>\n",
       "      <td>Petrol</td>\n",
       "      <td>Karachi</td>\n",
       "      <td>Original</td>\n",
       "      <td>Local</td>\n",
       "      <td>Manual</td>\n",
       "      <td>Used</td>\n",
       "      <td>Lyari Expressway, Karachi</td>\n",
       "      <td>Suzuki bolan model 2015 reg 2022 ghadi me koi ...</td>\n",
       "      <td>Rear speakers</td>\n",
       "      <td>['https://images.olx.com.pk/thumbnails/4139520...</td>\n",
       "      <td>https://www.olx.com.pk/item/suzuki-bolan-2015-...</td>\n",
       "    </tr>\n",
       "    <tr>\n",
       "      <th>3</th>\n",
       "      <td>1076081635</td>\n",
       "      <td>Diahatsu Move 2013</td>\n",
       "      <td>2</td>\n",
       "      <td>3</td>\n",
       "      <td>2013</td>\n",
       "      <td>94000</td>\n",
       "      <td>2155000</td>\n",
       "      <td>Petrol</td>\n",
       "      <td>Lahore</td>\n",
       "      <td>Original</td>\n",
       "      <td>Imported</td>\n",
       "      <td>Automatic</td>\n",
       "      <td>Used</td>\n",
       "      <td>New Amir Town, Lahore</td>\n",
       "      <td>Move Push start \\nHome Used car. \\nModel 2013....</td>\n",
       "      <td>ABS, Air Bags, Air Conditioning, Alloy Rims, A...</td>\n",
       "      <td>['https://images.olx.com.pk/thumbnails/3865337...</td>\n",
       "      <td>https://www.olx.com.pk/item/diahatsu-move-2013...</td>\n",
       "    </tr>\n",
       "    <tr>\n",
       "      <th>4</th>\n",
       "      <td>1080812928</td>\n",
       "      <td>Suzuki Swift DLX 2011 miner tuchap</td>\n",
       "      <td>1</td>\n",
       "      <td>4</td>\n",
       "      <td>2011</td>\n",
       "      <td>126544</td>\n",
       "      <td>1440000</td>\n",
       "      <td>Petrol</td>\n",
       "      <td>Karachi</td>\n",
       "      <td>Original</td>\n",
       "      <td>Local</td>\n",
       "      <td>Manual</td>\n",
       "      <td>Used</td>\n",
       "      <td>Shadman 2, Karachi</td>\n",
       "      <td>Suzuki Swift DLX\\nAbS Break 100%\\nengine 100%\\...</td>\n",
       "      <td>ABS, Air Conditioning, Alloy Rims, AM/FM Radio...</td>\n",
       "      <td>['https://images.olx.com.pk/thumbnails/4143509...</td>\n",
       "      <td>https://www.olx.com.pk/item/suzuki-swift-dlx-2...</td>\n",
       "    </tr>\n",
       "  </tbody>\n",
       "</table>\n",
       "</div>"
      ],
      "text/plain": [
       "        Ad ID                               Car Name  Make  Model  Year  \\\n",
       "0  1079071571           fresh import Passo 2021model     0      0  2021   \n",
       "1  1080125520                            Suzuki ravi     1      1  2018   \n",
       "2  1080748789  Suzuki bolan 2015 contact 03112271054     1      2  2015   \n",
       "3  1076081635                     Diahatsu Move 2013     2      3  2013   \n",
       "4  1080812928     Suzuki Swift DLX 2011 miner tuchap     1      4  2011   \n",
       "\n",
       "   KM's driven    Price    Fuel Registration city Car documents  Assembly  \\\n",
       "0        54000  4190000  Petrol      Unregistered      Original  Imported   \n",
       "1        95000  1300000  Petrol           Karachi      Original     Local   \n",
       "2        50000   800000  Petrol           Karachi      Original     Local   \n",
       "3        94000  2155000  Petrol            Lahore      Original  Imported   \n",
       "4       126544  1440000  Petrol           Karachi      Original     Local   \n",
       "\n",
       "  Transmission Condition            Seller Location  \\\n",
       "0    Automatic      Used  Airline Avenue, Islamabad   \n",
       "1       Manual      Used         Kahuta, Rawalpindi   \n",
       "2       Manual      Used  Lyari Expressway, Karachi   \n",
       "3    Automatic      Used      New Amir Town, Lahore   \n",
       "4       Manual      Used         Shadman 2, Karachi   \n",
       "\n",
       "                                         Description  \\\n",
       "0  it's 2021 model fresh import, perfect engine s...   \n",
       "1                              Suzuki ravi 2018 col    \n",
       "2  Suzuki bolan model 2015 reg 2022 ghadi me koi ...   \n",
       "3  Move Push start \\nHome Used car. \\nModel 2013....   \n",
       "4  Suzuki Swift DLX\\nAbS Break 100%\\nengine 100%\\...   \n",
       "\n",
       "                                        Car Features  \\\n",
       "0  ABS, Air Bags, AM/FM Radio, CD Player, Cassett...   \n",
       "1                                        AM/FM Radio   \n",
       "2                                      Rear speakers   \n",
       "3  ABS, Air Bags, Air Conditioning, Alloy Rims, A...   \n",
       "4  ABS, Air Conditioning, Alloy Rims, AM/FM Radio...   \n",
       "\n",
       "                                        Images URL's  \\\n",
       "0  ['https://images.olx.com.pk/thumbnails/4039460...   \n",
       "1  ['https://images.olx.com.pk/thumbnails/4102504...   \n",
       "2  ['https://images.olx.com.pk/thumbnails/4139520...   \n",
       "3  ['https://images.olx.com.pk/thumbnails/3865337...   \n",
       "4  ['https://images.olx.com.pk/thumbnails/4143509...   \n",
       "\n",
       "                                         Car Profile  \n",
       "0  https://www.olx.com.pk/item/fresh-import-passo...  \n",
       "1  https://www.olx.com.pk/item/suzuki-ravi-iid-10...  \n",
       "2  https://www.olx.com.pk/item/suzuki-bolan-2015-...  \n",
       "3  https://www.olx.com.pk/item/diahatsu-move-2013...  \n",
       "4  https://www.olx.com.pk/item/suzuki-swift-dlx-2...  "
      ]
     },
     "execution_count": 16,
     "metadata": {},
     "output_type": "execute_result"
    }
   ],
   "source": [
    "df.head()"
   ]
  },
  {
   "cell_type": "code",
   "execution_count": 17,
   "id": "dbed96af",
   "metadata": {},
   "outputs": [],
   "source": [
    "df['Years_used']=2024-df['Year']"
   ]
  },
  {
   "cell_type": "code",
   "execution_count": 18,
   "id": "18a43bf9",
   "metadata": {},
   "outputs": [],
   "source": [
    "df.drop(['Year','Ad ID'],axis=1,inplace=True)"
   ]
  },
  {
   "cell_type": "code",
   "execution_count": 19,
   "id": "827789a8",
   "metadata": {
    "scrolled": true
   },
   "outputs": [
    {
     "data": {
      "text/html": [
       "<div>\n",
       "<style scoped>\n",
       "    .dataframe tbody tr th:only-of-type {\n",
       "        vertical-align: middle;\n",
       "    }\n",
       "\n",
       "    .dataframe tbody tr th {\n",
       "        vertical-align: top;\n",
       "    }\n",
       "\n",
       "    .dataframe thead th {\n",
       "        text-align: right;\n",
       "    }\n",
       "</style>\n",
       "<table border=\"1\" class=\"dataframe\">\n",
       "  <thead>\n",
       "    <tr style=\"text-align: right;\">\n",
       "      <th></th>\n",
       "      <th>Car Name</th>\n",
       "      <th>Make</th>\n",
       "      <th>Model</th>\n",
       "      <th>KM's driven</th>\n",
       "      <th>Price</th>\n",
       "      <th>Fuel</th>\n",
       "      <th>Registration city</th>\n",
       "      <th>Car documents</th>\n",
       "      <th>Assembly</th>\n",
       "      <th>Transmission</th>\n",
       "      <th>Condition</th>\n",
       "      <th>Seller Location</th>\n",
       "      <th>Description</th>\n",
       "      <th>Car Features</th>\n",
       "      <th>Images URL's</th>\n",
       "      <th>Car Profile</th>\n",
       "      <th>Years_used</th>\n",
       "    </tr>\n",
       "  </thead>\n",
       "  <tbody>\n",
       "    <tr>\n",
       "      <th>0</th>\n",
       "      <td>fresh import Passo 2021model</td>\n",
       "      <td>0</td>\n",
       "      <td>0</td>\n",
       "      <td>54000</td>\n",
       "      <td>4190000</td>\n",
       "      <td>Petrol</td>\n",
       "      <td>Unregistered</td>\n",
       "      <td>Original</td>\n",
       "      <td>Imported</td>\n",
       "      <td>Automatic</td>\n",
       "      <td>Used</td>\n",
       "      <td>Airline Avenue, Islamabad</td>\n",
       "      <td>it's 2021 model fresh import, perfect engine s...</td>\n",
       "      <td>ABS, Air Bags, AM/FM Radio, CD Player, Cassett...</td>\n",
       "      <td>['https://images.olx.com.pk/thumbnails/4039460...</td>\n",
       "      <td>https://www.olx.com.pk/item/fresh-import-passo...</td>\n",
       "      <td>3</td>\n",
       "    </tr>\n",
       "    <tr>\n",
       "      <th>1</th>\n",
       "      <td>Suzuki ravi</td>\n",
       "      <td>1</td>\n",
       "      <td>1</td>\n",
       "      <td>95000</td>\n",
       "      <td>1300000</td>\n",
       "      <td>Petrol</td>\n",
       "      <td>Karachi</td>\n",
       "      <td>Original</td>\n",
       "      <td>Local</td>\n",
       "      <td>Manual</td>\n",
       "      <td>Used</td>\n",
       "      <td>Kahuta, Rawalpindi</td>\n",
       "      <td>Suzuki ravi 2018 col</td>\n",
       "      <td>AM/FM Radio</td>\n",
       "      <td>['https://images.olx.com.pk/thumbnails/4102504...</td>\n",
       "      <td>https://www.olx.com.pk/item/suzuki-ravi-iid-10...</td>\n",
       "      <td>6</td>\n",
       "    </tr>\n",
       "    <tr>\n",
       "      <th>2</th>\n",
       "      <td>Suzuki bolan 2015 contact 03112271054</td>\n",
       "      <td>1</td>\n",
       "      <td>2</td>\n",
       "      <td>50000</td>\n",
       "      <td>800000</td>\n",
       "      <td>Petrol</td>\n",
       "      <td>Karachi</td>\n",
       "      <td>Original</td>\n",
       "      <td>Local</td>\n",
       "      <td>Manual</td>\n",
       "      <td>Used</td>\n",
       "      <td>Lyari Expressway, Karachi</td>\n",
       "      <td>Suzuki bolan model 2015 reg 2022 ghadi me koi ...</td>\n",
       "      <td>Rear speakers</td>\n",
       "      <td>['https://images.olx.com.pk/thumbnails/4139520...</td>\n",
       "      <td>https://www.olx.com.pk/item/suzuki-bolan-2015-...</td>\n",
       "      <td>9</td>\n",
       "    </tr>\n",
       "    <tr>\n",
       "      <th>3</th>\n",
       "      <td>Diahatsu Move 2013</td>\n",
       "      <td>2</td>\n",
       "      <td>3</td>\n",
       "      <td>94000</td>\n",
       "      <td>2155000</td>\n",
       "      <td>Petrol</td>\n",
       "      <td>Lahore</td>\n",
       "      <td>Original</td>\n",
       "      <td>Imported</td>\n",
       "      <td>Automatic</td>\n",
       "      <td>Used</td>\n",
       "      <td>New Amir Town, Lahore</td>\n",
       "      <td>Move Push start \\nHome Used car. \\nModel 2013....</td>\n",
       "      <td>ABS, Air Bags, Air Conditioning, Alloy Rims, A...</td>\n",
       "      <td>['https://images.olx.com.pk/thumbnails/3865337...</td>\n",
       "      <td>https://www.olx.com.pk/item/diahatsu-move-2013...</td>\n",
       "      <td>11</td>\n",
       "    </tr>\n",
       "    <tr>\n",
       "      <th>4</th>\n",
       "      <td>Suzuki Swift DLX 2011 miner tuchap</td>\n",
       "      <td>1</td>\n",
       "      <td>4</td>\n",
       "      <td>126544</td>\n",
       "      <td>1440000</td>\n",
       "      <td>Petrol</td>\n",
       "      <td>Karachi</td>\n",
       "      <td>Original</td>\n",
       "      <td>Local</td>\n",
       "      <td>Manual</td>\n",
       "      <td>Used</td>\n",
       "      <td>Shadman 2, Karachi</td>\n",
       "      <td>Suzuki Swift DLX\\nAbS Break 100%\\nengine 100%\\...</td>\n",
       "      <td>ABS, Air Conditioning, Alloy Rims, AM/FM Radio...</td>\n",
       "      <td>['https://images.olx.com.pk/thumbnails/4143509...</td>\n",
       "      <td>https://www.olx.com.pk/item/suzuki-swift-dlx-2...</td>\n",
       "      <td>13</td>\n",
       "    </tr>\n",
       "  </tbody>\n",
       "</table>\n",
       "</div>"
      ],
      "text/plain": [
       "                                Car Name  Make  Model  KM's driven    Price  \\\n",
       "0           fresh import Passo 2021model     0      0        54000  4190000   \n",
       "1                            Suzuki ravi     1      1        95000  1300000   \n",
       "2  Suzuki bolan 2015 contact 03112271054     1      2        50000   800000   \n",
       "3                     Diahatsu Move 2013     2      3        94000  2155000   \n",
       "4     Suzuki Swift DLX 2011 miner tuchap     1      4       126544  1440000   \n",
       "\n",
       "     Fuel Registration city Car documents  Assembly Transmission Condition  \\\n",
       "0  Petrol      Unregistered      Original  Imported    Automatic      Used   \n",
       "1  Petrol           Karachi      Original     Local       Manual      Used   \n",
       "2  Petrol           Karachi      Original     Local       Manual      Used   \n",
       "3  Petrol            Lahore      Original  Imported    Automatic      Used   \n",
       "4  Petrol           Karachi      Original     Local       Manual      Used   \n",
       "\n",
       "             Seller Location  \\\n",
       "0  Airline Avenue, Islamabad   \n",
       "1         Kahuta, Rawalpindi   \n",
       "2  Lyari Expressway, Karachi   \n",
       "3      New Amir Town, Lahore   \n",
       "4         Shadman 2, Karachi   \n",
       "\n",
       "                                         Description  \\\n",
       "0  it's 2021 model fresh import, perfect engine s...   \n",
       "1                              Suzuki ravi 2018 col    \n",
       "2  Suzuki bolan model 2015 reg 2022 ghadi me koi ...   \n",
       "3  Move Push start \\nHome Used car. \\nModel 2013....   \n",
       "4  Suzuki Swift DLX\\nAbS Break 100%\\nengine 100%\\...   \n",
       "\n",
       "                                        Car Features  \\\n",
       "0  ABS, Air Bags, AM/FM Radio, CD Player, Cassett...   \n",
       "1                                        AM/FM Radio   \n",
       "2                                      Rear speakers   \n",
       "3  ABS, Air Bags, Air Conditioning, Alloy Rims, A...   \n",
       "4  ABS, Air Conditioning, Alloy Rims, AM/FM Radio...   \n",
       "\n",
       "                                        Images URL's  \\\n",
       "0  ['https://images.olx.com.pk/thumbnails/4039460...   \n",
       "1  ['https://images.olx.com.pk/thumbnails/4102504...   \n",
       "2  ['https://images.olx.com.pk/thumbnails/4139520...   \n",
       "3  ['https://images.olx.com.pk/thumbnails/3865337...   \n",
       "4  ['https://images.olx.com.pk/thumbnails/4143509...   \n",
       "\n",
       "                                         Car Profile  Years_used  \n",
       "0  https://www.olx.com.pk/item/fresh-import-passo...           3  \n",
       "1  https://www.olx.com.pk/item/suzuki-ravi-iid-10...           6  \n",
       "2  https://www.olx.com.pk/item/suzuki-bolan-2015-...           9  \n",
       "3  https://www.olx.com.pk/item/diahatsu-move-2013...          11  \n",
       "4  https://www.olx.com.pk/item/suzuki-swift-dlx-2...          13  "
      ]
     },
     "execution_count": 19,
     "metadata": {},
     "output_type": "execute_result"
    }
   ],
   "source": [
    "df.head()"
   ]
  },
  {
   "cell_type": "code",
   "execution_count": 20,
   "id": "5d1bcd59",
   "metadata": {},
   "outputs": [
    {
     "name": "stdout",
     "output_type": "stream",
     "text": [
      "<class 'pandas.core.frame.DataFrame'>\n",
      "RangeIndex: 9179 entries, 0 to 9178\n",
      "Data columns (total 17 columns):\n",
      " #   Column             Non-Null Count  Dtype \n",
      "---  ------             --------------  ----- \n",
      " 0   Car Name           9179 non-null   object\n",
      " 1   Make               9179 non-null   int32 \n",
      " 2   Model              9179 non-null   int64 \n",
      " 3   KM's driven        9179 non-null   int64 \n",
      " 4   Price              9179 non-null   int64 \n",
      " 5   Fuel               9179 non-null   object\n",
      " 6   Registration city  9179 non-null   object\n",
      " 7   Car documents      9179 non-null   object\n",
      " 8   Assembly           9179 non-null   object\n",
      " 9   Transmission       9179 non-null   object\n",
      " 10  Condition          9179 non-null   object\n",
      " 11  Seller Location    9179 non-null   object\n",
      " 12  Description        9179 non-null   object\n",
      " 13  Car Features       9179 non-null   object\n",
      " 14  Images URL's       9179 non-null   object\n",
      " 15  Car Profile        8721 non-null   object\n",
      " 16  Years_used         9179 non-null   int64 \n",
      "dtypes: int32(1), int64(4), object(12)\n",
      "memory usage: 1.2+ MB\n"
     ]
    }
   ],
   "source": [
    "df.info()"
   ]
  },
  {
   "cell_type": "code",
   "execution_count": 21,
   "id": "6ef3b327",
   "metadata": {},
   "outputs": [
    {
     "data": {
      "text/plain": [
       "array(['Petrol', 'CNG', 'Hybrid', 'Diesel'], dtype=object)"
      ]
     },
     "execution_count": 21,
     "metadata": {},
     "output_type": "execute_result"
    }
   ],
   "source": [
    "df['Fuel'].unique()"
   ]
  },
  {
   "cell_type": "code",
   "execution_count": 22,
   "id": "abd5f1d7",
   "metadata": {},
   "outputs": [],
   "source": [
    "df['Fuel']=df['Fuel'].replace({'Petrol':0, 'CNG':1, 'Hybrid':2, 'Diesel':3})"
   ]
  },
  {
   "cell_type": "code",
   "execution_count": 23,
   "id": "0d54e9cf",
   "metadata": {},
   "outputs": [
    {
     "data": {
      "text/plain": [
       "array([0, 1, 2, 3], dtype=int64)"
      ]
     },
     "execution_count": 23,
     "metadata": {},
     "output_type": "execute_result"
    }
   ],
   "source": [
    "df['Fuel'].unique()"
   ]
  },
  {
   "cell_type": "code",
   "execution_count": 24,
   "id": "fbd4b421",
   "metadata": {},
   "outputs": [
    {
     "name": "stdout",
     "output_type": "stream",
     "text": [
      "<class 'pandas.core.frame.DataFrame'>\n",
      "RangeIndex: 9179 entries, 0 to 9178\n",
      "Data columns (total 17 columns):\n",
      " #   Column             Non-Null Count  Dtype \n",
      "---  ------             --------------  ----- \n",
      " 0   Car Name           9179 non-null   object\n",
      " 1   Make               9179 non-null   int32 \n",
      " 2   Model              9179 non-null   int64 \n",
      " 3   KM's driven        9179 non-null   int64 \n",
      " 4   Price              9179 non-null   int64 \n",
      " 5   Fuel               9179 non-null   int64 \n",
      " 6   Registration city  9179 non-null   object\n",
      " 7   Car documents      9179 non-null   object\n",
      " 8   Assembly           9179 non-null   object\n",
      " 9   Transmission       9179 non-null   object\n",
      " 10  Condition          9179 non-null   object\n",
      " 11  Seller Location    9179 non-null   object\n",
      " 12  Description        9179 non-null   object\n",
      " 13  Car Features       9179 non-null   object\n",
      " 14  Images URL's       9179 non-null   object\n",
      " 15  Car Profile        8721 non-null   object\n",
      " 16  Years_used         9179 non-null   int64 \n",
      "dtypes: int32(1), int64(5), object(11)\n",
      "memory usage: 1.2+ MB\n"
     ]
    }
   ],
   "source": [
    "df.info()"
   ]
  },
  {
   "cell_type": "code",
   "execution_count": 25,
   "id": "b8ce953b",
   "metadata": {},
   "outputs": [
    {
     "data": {
      "text/html": [
       "<div>\n",
       "<style scoped>\n",
       "    .dataframe tbody tr th:only-of-type {\n",
       "        vertical-align: middle;\n",
       "    }\n",
       "\n",
       "    .dataframe tbody tr th {\n",
       "        vertical-align: top;\n",
       "    }\n",
       "\n",
       "    .dataframe thead th {\n",
       "        text-align: right;\n",
       "    }\n",
       "</style>\n",
       "<table border=\"1\" class=\"dataframe\">\n",
       "  <thead>\n",
       "    <tr style=\"text-align: right;\">\n",
       "      <th></th>\n",
       "      <th>Car Name</th>\n",
       "      <th>Make</th>\n",
       "      <th>Model</th>\n",
       "      <th>KM's driven</th>\n",
       "      <th>Price</th>\n",
       "      <th>Fuel</th>\n",
       "      <th>Registration city</th>\n",
       "      <th>Car documents</th>\n",
       "      <th>Assembly</th>\n",
       "      <th>Transmission</th>\n",
       "      <th>Condition</th>\n",
       "      <th>Seller Location</th>\n",
       "      <th>Description</th>\n",
       "      <th>Car Features</th>\n",
       "      <th>Images URL's</th>\n",
       "      <th>Car Profile</th>\n",
       "      <th>Years_used</th>\n",
       "    </tr>\n",
       "  </thead>\n",
       "  <tbody>\n",
       "    <tr>\n",
       "      <th>0</th>\n",
       "      <td>fresh import Passo 2021model</td>\n",
       "      <td>0</td>\n",
       "      <td>0</td>\n",
       "      <td>54000</td>\n",
       "      <td>4190000</td>\n",
       "      <td>0</td>\n",
       "      <td>Unregistered</td>\n",
       "      <td>Original</td>\n",
       "      <td>Imported</td>\n",
       "      <td>Automatic</td>\n",
       "      <td>Used</td>\n",
       "      <td>Airline Avenue, Islamabad</td>\n",
       "      <td>it's 2021 model fresh import, perfect engine s...</td>\n",
       "      <td>ABS, Air Bags, AM/FM Radio, CD Player, Cassett...</td>\n",
       "      <td>['https://images.olx.com.pk/thumbnails/4039460...</td>\n",
       "      <td>https://www.olx.com.pk/item/fresh-import-passo...</td>\n",
       "      <td>3</td>\n",
       "    </tr>\n",
       "    <tr>\n",
       "      <th>1</th>\n",
       "      <td>Suzuki ravi</td>\n",
       "      <td>1</td>\n",
       "      <td>1</td>\n",
       "      <td>95000</td>\n",
       "      <td>1300000</td>\n",
       "      <td>0</td>\n",
       "      <td>Karachi</td>\n",
       "      <td>Original</td>\n",
       "      <td>Local</td>\n",
       "      <td>Manual</td>\n",
       "      <td>Used</td>\n",
       "      <td>Kahuta, Rawalpindi</td>\n",
       "      <td>Suzuki ravi 2018 col</td>\n",
       "      <td>AM/FM Radio</td>\n",
       "      <td>['https://images.olx.com.pk/thumbnails/4102504...</td>\n",
       "      <td>https://www.olx.com.pk/item/suzuki-ravi-iid-10...</td>\n",
       "      <td>6</td>\n",
       "    </tr>\n",
       "    <tr>\n",
       "      <th>2</th>\n",
       "      <td>Suzuki bolan 2015 contact 03112271054</td>\n",
       "      <td>1</td>\n",
       "      <td>2</td>\n",
       "      <td>50000</td>\n",
       "      <td>800000</td>\n",
       "      <td>0</td>\n",
       "      <td>Karachi</td>\n",
       "      <td>Original</td>\n",
       "      <td>Local</td>\n",
       "      <td>Manual</td>\n",
       "      <td>Used</td>\n",
       "      <td>Lyari Expressway, Karachi</td>\n",
       "      <td>Suzuki bolan model 2015 reg 2022 ghadi me koi ...</td>\n",
       "      <td>Rear speakers</td>\n",
       "      <td>['https://images.olx.com.pk/thumbnails/4139520...</td>\n",
       "      <td>https://www.olx.com.pk/item/suzuki-bolan-2015-...</td>\n",
       "      <td>9</td>\n",
       "    </tr>\n",
       "    <tr>\n",
       "      <th>3</th>\n",
       "      <td>Diahatsu Move 2013</td>\n",
       "      <td>2</td>\n",
       "      <td>3</td>\n",
       "      <td>94000</td>\n",
       "      <td>2155000</td>\n",
       "      <td>0</td>\n",
       "      <td>Lahore</td>\n",
       "      <td>Original</td>\n",
       "      <td>Imported</td>\n",
       "      <td>Automatic</td>\n",
       "      <td>Used</td>\n",
       "      <td>New Amir Town, Lahore</td>\n",
       "      <td>Move Push start \\nHome Used car. \\nModel 2013....</td>\n",
       "      <td>ABS, Air Bags, Air Conditioning, Alloy Rims, A...</td>\n",
       "      <td>['https://images.olx.com.pk/thumbnails/3865337...</td>\n",
       "      <td>https://www.olx.com.pk/item/diahatsu-move-2013...</td>\n",
       "      <td>11</td>\n",
       "    </tr>\n",
       "    <tr>\n",
       "      <th>4</th>\n",
       "      <td>Suzuki Swift DLX 2011 miner tuchap</td>\n",
       "      <td>1</td>\n",
       "      <td>4</td>\n",
       "      <td>126544</td>\n",
       "      <td>1440000</td>\n",
       "      <td>0</td>\n",
       "      <td>Karachi</td>\n",
       "      <td>Original</td>\n",
       "      <td>Local</td>\n",
       "      <td>Manual</td>\n",
       "      <td>Used</td>\n",
       "      <td>Shadman 2, Karachi</td>\n",
       "      <td>Suzuki Swift DLX\\nAbS Break 100%\\nengine 100%\\...</td>\n",
       "      <td>ABS, Air Conditioning, Alloy Rims, AM/FM Radio...</td>\n",
       "      <td>['https://images.olx.com.pk/thumbnails/4143509...</td>\n",
       "      <td>https://www.olx.com.pk/item/suzuki-swift-dlx-2...</td>\n",
       "      <td>13</td>\n",
       "    </tr>\n",
       "  </tbody>\n",
       "</table>\n",
       "</div>"
      ],
      "text/plain": [
       "                                Car Name  Make  Model  KM's driven    Price  \\\n",
       "0           fresh import Passo 2021model     0      0        54000  4190000   \n",
       "1                            Suzuki ravi     1      1        95000  1300000   \n",
       "2  Suzuki bolan 2015 contact 03112271054     1      2        50000   800000   \n",
       "3                     Diahatsu Move 2013     2      3        94000  2155000   \n",
       "4     Suzuki Swift DLX 2011 miner tuchap     1      4       126544  1440000   \n",
       "\n",
       "   Fuel Registration city Car documents  Assembly Transmission Condition  \\\n",
       "0     0      Unregistered      Original  Imported    Automatic      Used   \n",
       "1     0           Karachi      Original     Local       Manual      Used   \n",
       "2     0           Karachi      Original     Local       Manual      Used   \n",
       "3     0            Lahore      Original  Imported    Automatic      Used   \n",
       "4     0           Karachi      Original     Local       Manual      Used   \n",
       "\n",
       "             Seller Location  \\\n",
       "0  Airline Avenue, Islamabad   \n",
       "1         Kahuta, Rawalpindi   \n",
       "2  Lyari Expressway, Karachi   \n",
       "3      New Amir Town, Lahore   \n",
       "4         Shadman 2, Karachi   \n",
       "\n",
       "                                         Description  \\\n",
       "0  it's 2021 model fresh import, perfect engine s...   \n",
       "1                              Suzuki ravi 2018 col    \n",
       "2  Suzuki bolan model 2015 reg 2022 ghadi me koi ...   \n",
       "3  Move Push start \\nHome Used car. \\nModel 2013....   \n",
       "4  Suzuki Swift DLX\\nAbS Break 100%\\nengine 100%\\...   \n",
       "\n",
       "                                        Car Features  \\\n",
       "0  ABS, Air Bags, AM/FM Radio, CD Player, Cassett...   \n",
       "1                                        AM/FM Radio   \n",
       "2                                      Rear speakers   \n",
       "3  ABS, Air Bags, Air Conditioning, Alloy Rims, A...   \n",
       "4  ABS, Air Conditioning, Alloy Rims, AM/FM Radio...   \n",
       "\n",
       "                                        Images URL's  \\\n",
       "0  ['https://images.olx.com.pk/thumbnails/4039460...   \n",
       "1  ['https://images.olx.com.pk/thumbnails/4102504...   \n",
       "2  ['https://images.olx.com.pk/thumbnails/4139520...   \n",
       "3  ['https://images.olx.com.pk/thumbnails/3865337...   \n",
       "4  ['https://images.olx.com.pk/thumbnails/4143509...   \n",
       "\n",
       "                                         Car Profile  Years_used  \n",
       "0  https://www.olx.com.pk/item/fresh-import-passo...           3  \n",
       "1  https://www.olx.com.pk/item/suzuki-ravi-iid-10...           6  \n",
       "2  https://www.olx.com.pk/item/suzuki-bolan-2015-...           9  \n",
       "3  https://www.olx.com.pk/item/diahatsu-move-2013...          11  \n",
       "4  https://www.olx.com.pk/item/suzuki-swift-dlx-2...          13  "
      ]
     },
     "execution_count": 25,
     "metadata": {},
     "output_type": "execute_result"
    }
   ],
   "source": [
    "df.head()"
   ]
  },
  {
   "cell_type": "code",
   "execution_count": 26,
   "id": "c45caffa",
   "metadata": {},
   "outputs": [],
   "source": [
    "df.drop(['Car Name','Registration city','Seller Location','Description','Car Profile','Car Features'],axis=1,inplace=True)"
   ]
  },
  {
   "cell_type": "code",
   "execution_count": 27,
   "id": "711748b2",
   "metadata": {},
   "outputs": [
    {
     "data": {
      "text/html": [
       "<div>\n",
       "<style scoped>\n",
       "    .dataframe tbody tr th:only-of-type {\n",
       "        vertical-align: middle;\n",
       "    }\n",
       "\n",
       "    .dataframe tbody tr th {\n",
       "        vertical-align: top;\n",
       "    }\n",
       "\n",
       "    .dataframe thead th {\n",
       "        text-align: right;\n",
       "    }\n",
       "</style>\n",
       "<table border=\"1\" class=\"dataframe\">\n",
       "  <thead>\n",
       "    <tr style=\"text-align: right;\">\n",
       "      <th></th>\n",
       "      <th>Make</th>\n",
       "      <th>Model</th>\n",
       "      <th>KM's driven</th>\n",
       "      <th>Price</th>\n",
       "      <th>Fuel</th>\n",
       "      <th>Car documents</th>\n",
       "      <th>Assembly</th>\n",
       "      <th>Transmission</th>\n",
       "      <th>Condition</th>\n",
       "      <th>Images URL's</th>\n",
       "      <th>Years_used</th>\n",
       "    </tr>\n",
       "  </thead>\n",
       "  <tbody>\n",
       "    <tr>\n",
       "      <th>0</th>\n",
       "      <td>0</td>\n",
       "      <td>0</td>\n",
       "      <td>54000</td>\n",
       "      <td>4190000</td>\n",
       "      <td>0</td>\n",
       "      <td>Original</td>\n",
       "      <td>Imported</td>\n",
       "      <td>Automatic</td>\n",
       "      <td>Used</td>\n",
       "      <td>['https://images.olx.com.pk/thumbnails/4039460...</td>\n",
       "      <td>3</td>\n",
       "    </tr>\n",
       "    <tr>\n",
       "      <th>1</th>\n",
       "      <td>1</td>\n",
       "      <td>1</td>\n",
       "      <td>95000</td>\n",
       "      <td>1300000</td>\n",
       "      <td>0</td>\n",
       "      <td>Original</td>\n",
       "      <td>Local</td>\n",
       "      <td>Manual</td>\n",
       "      <td>Used</td>\n",
       "      <td>['https://images.olx.com.pk/thumbnails/4102504...</td>\n",
       "      <td>6</td>\n",
       "    </tr>\n",
       "    <tr>\n",
       "      <th>2</th>\n",
       "      <td>1</td>\n",
       "      <td>2</td>\n",
       "      <td>50000</td>\n",
       "      <td>800000</td>\n",
       "      <td>0</td>\n",
       "      <td>Original</td>\n",
       "      <td>Local</td>\n",
       "      <td>Manual</td>\n",
       "      <td>Used</td>\n",
       "      <td>['https://images.olx.com.pk/thumbnails/4139520...</td>\n",
       "      <td>9</td>\n",
       "    </tr>\n",
       "    <tr>\n",
       "      <th>3</th>\n",
       "      <td>2</td>\n",
       "      <td>3</td>\n",
       "      <td>94000</td>\n",
       "      <td>2155000</td>\n",
       "      <td>0</td>\n",
       "      <td>Original</td>\n",
       "      <td>Imported</td>\n",
       "      <td>Automatic</td>\n",
       "      <td>Used</td>\n",
       "      <td>['https://images.olx.com.pk/thumbnails/3865337...</td>\n",
       "      <td>11</td>\n",
       "    </tr>\n",
       "    <tr>\n",
       "      <th>4</th>\n",
       "      <td>1</td>\n",
       "      <td>4</td>\n",
       "      <td>126544</td>\n",
       "      <td>1440000</td>\n",
       "      <td>0</td>\n",
       "      <td>Original</td>\n",
       "      <td>Local</td>\n",
       "      <td>Manual</td>\n",
       "      <td>Used</td>\n",
       "      <td>['https://images.olx.com.pk/thumbnails/4143509...</td>\n",
       "      <td>13</td>\n",
       "    </tr>\n",
       "  </tbody>\n",
       "</table>\n",
       "</div>"
      ],
      "text/plain": [
       "   Make  Model  KM's driven    Price  Fuel Car documents  Assembly  \\\n",
       "0     0      0        54000  4190000     0      Original  Imported   \n",
       "1     1      1        95000  1300000     0      Original     Local   \n",
       "2     1      2        50000   800000     0      Original     Local   \n",
       "3     2      3        94000  2155000     0      Original  Imported   \n",
       "4     1      4       126544  1440000     0      Original     Local   \n",
       "\n",
       "  Transmission Condition                                       Images URL's  \\\n",
       "0    Automatic      Used  ['https://images.olx.com.pk/thumbnails/4039460...   \n",
       "1       Manual      Used  ['https://images.olx.com.pk/thumbnails/4102504...   \n",
       "2       Manual      Used  ['https://images.olx.com.pk/thumbnails/4139520...   \n",
       "3    Automatic      Used  ['https://images.olx.com.pk/thumbnails/3865337...   \n",
       "4       Manual      Used  ['https://images.olx.com.pk/thumbnails/4143509...   \n",
       "\n",
       "   Years_used  \n",
       "0           3  \n",
       "1           6  \n",
       "2           9  \n",
       "3          11  \n",
       "4          13  "
      ]
     },
     "execution_count": 27,
     "metadata": {},
     "output_type": "execute_result"
    }
   ],
   "source": [
    "df.head()"
   ]
  },
  {
   "cell_type": "code",
   "execution_count": 28,
   "id": "95fcb1c7",
   "metadata": {},
   "outputs": [],
   "source": [
    "df.drop(['Images URL\\'s'],axis=1,inplace=True)"
   ]
  },
  {
   "cell_type": "code",
   "execution_count": 29,
   "id": "e8d021d1",
   "metadata": {},
   "outputs": [
    {
     "data": {
      "text/html": [
       "<div>\n",
       "<style scoped>\n",
       "    .dataframe tbody tr th:only-of-type {\n",
       "        vertical-align: middle;\n",
       "    }\n",
       "\n",
       "    .dataframe tbody tr th {\n",
       "        vertical-align: top;\n",
       "    }\n",
       "\n",
       "    .dataframe thead th {\n",
       "        text-align: right;\n",
       "    }\n",
       "</style>\n",
       "<table border=\"1\" class=\"dataframe\">\n",
       "  <thead>\n",
       "    <tr style=\"text-align: right;\">\n",
       "      <th></th>\n",
       "      <th>Make</th>\n",
       "      <th>Model</th>\n",
       "      <th>KM's driven</th>\n",
       "      <th>Price</th>\n",
       "      <th>Fuel</th>\n",
       "      <th>Car documents</th>\n",
       "      <th>Assembly</th>\n",
       "      <th>Transmission</th>\n",
       "      <th>Condition</th>\n",
       "      <th>Years_used</th>\n",
       "    </tr>\n",
       "  </thead>\n",
       "  <tbody>\n",
       "    <tr>\n",
       "      <th>0</th>\n",
       "      <td>0</td>\n",
       "      <td>0</td>\n",
       "      <td>54000</td>\n",
       "      <td>4190000</td>\n",
       "      <td>0</td>\n",
       "      <td>Original</td>\n",
       "      <td>Imported</td>\n",
       "      <td>Automatic</td>\n",
       "      <td>Used</td>\n",
       "      <td>3</td>\n",
       "    </tr>\n",
       "    <tr>\n",
       "      <th>1</th>\n",
       "      <td>1</td>\n",
       "      <td>1</td>\n",
       "      <td>95000</td>\n",
       "      <td>1300000</td>\n",
       "      <td>0</td>\n",
       "      <td>Original</td>\n",
       "      <td>Local</td>\n",
       "      <td>Manual</td>\n",
       "      <td>Used</td>\n",
       "      <td>6</td>\n",
       "    </tr>\n",
       "    <tr>\n",
       "      <th>2</th>\n",
       "      <td>1</td>\n",
       "      <td>2</td>\n",
       "      <td>50000</td>\n",
       "      <td>800000</td>\n",
       "      <td>0</td>\n",
       "      <td>Original</td>\n",
       "      <td>Local</td>\n",
       "      <td>Manual</td>\n",
       "      <td>Used</td>\n",
       "      <td>9</td>\n",
       "    </tr>\n",
       "    <tr>\n",
       "      <th>3</th>\n",
       "      <td>2</td>\n",
       "      <td>3</td>\n",
       "      <td>94000</td>\n",
       "      <td>2155000</td>\n",
       "      <td>0</td>\n",
       "      <td>Original</td>\n",
       "      <td>Imported</td>\n",
       "      <td>Automatic</td>\n",
       "      <td>Used</td>\n",
       "      <td>11</td>\n",
       "    </tr>\n",
       "    <tr>\n",
       "      <th>4</th>\n",
       "      <td>1</td>\n",
       "      <td>4</td>\n",
       "      <td>126544</td>\n",
       "      <td>1440000</td>\n",
       "      <td>0</td>\n",
       "      <td>Original</td>\n",
       "      <td>Local</td>\n",
       "      <td>Manual</td>\n",
       "      <td>Used</td>\n",
       "      <td>13</td>\n",
       "    </tr>\n",
       "  </tbody>\n",
       "</table>\n",
       "</div>"
      ],
      "text/plain": [
       "   Make  Model  KM's driven    Price  Fuel Car documents  Assembly  \\\n",
       "0     0      0        54000  4190000     0      Original  Imported   \n",
       "1     1      1        95000  1300000     0      Original     Local   \n",
       "2     1      2        50000   800000     0      Original     Local   \n",
       "3     2      3        94000  2155000     0      Original  Imported   \n",
       "4     1      4       126544  1440000     0      Original     Local   \n",
       "\n",
       "  Transmission Condition  Years_used  \n",
       "0    Automatic      Used           3  \n",
       "1       Manual      Used           6  \n",
       "2       Manual      Used           9  \n",
       "3    Automatic      Used          11  \n",
       "4       Manual      Used          13  "
      ]
     },
     "execution_count": 29,
     "metadata": {},
     "output_type": "execute_result"
    }
   ],
   "source": [
    "df.head()"
   ]
  },
  {
   "cell_type": "code",
   "execution_count": 30,
   "id": "995dc6cc",
   "metadata": {},
   "outputs": [
    {
     "data": {
      "text/plain": [
       "array(['Original', 'Duplicate'], dtype=object)"
      ]
     },
     "execution_count": 30,
     "metadata": {},
     "output_type": "execute_result"
    }
   ],
   "source": [
    "df['Car documents'].unique()"
   ]
  },
  {
   "cell_type": "code",
   "execution_count": 31,
   "id": "80b927ce",
   "metadata": {},
   "outputs": [],
   "source": [
    "df['Car documents']=df['Car documents'].map({'Original':1, 'Duplicate':0})"
   ]
  },
  {
   "cell_type": "code",
   "execution_count": 32,
   "id": "f8cb93ee",
   "metadata": {},
   "outputs": [
    {
     "data": {
      "text/plain": [
       "array([1, 0], dtype=int64)"
      ]
     },
     "execution_count": 32,
     "metadata": {},
     "output_type": "execute_result"
    }
   ],
   "source": [
    "df['Car documents'].unique()"
   ]
  },
  {
   "cell_type": "code",
   "execution_count": 33,
   "id": "b58cc8ba",
   "metadata": {},
   "outputs": [
    {
     "name": "stdout",
     "output_type": "stream",
     "text": [
      "<class 'pandas.core.frame.DataFrame'>\n",
      "RangeIndex: 9179 entries, 0 to 9178\n",
      "Data columns (total 10 columns):\n",
      " #   Column         Non-Null Count  Dtype \n",
      "---  ------         --------------  ----- \n",
      " 0   Make           9179 non-null   int32 \n",
      " 1   Model          9179 non-null   int64 \n",
      " 2   KM's driven    9179 non-null   int64 \n",
      " 3   Price          9179 non-null   int64 \n",
      " 4   Fuel           9179 non-null   int64 \n",
      " 5   Car documents  9179 non-null   int64 \n",
      " 6   Assembly       9179 non-null   object\n",
      " 7   Transmission   9179 non-null   object\n",
      " 8   Condition      9179 non-null   object\n",
      " 9   Years_used     9179 non-null   int64 \n",
      "dtypes: int32(1), int64(6), object(3)\n",
      "memory usage: 681.4+ KB\n"
     ]
    }
   ],
   "source": [
    "df.info()"
   ]
  },
  {
   "cell_type": "code",
   "execution_count": 34,
   "id": "b614aed2",
   "metadata": {},
   "outputs": [
    {
     "data": {
      "text/html": [
       "<div>\n",
       "<style scoped>\n",
       "    .dataframe tbody tr th:only-of-type {\n",
       "        vertical-align: middle;\n",
       "    }\n",
       "\n",
       "    .dataframe tbody tr th {\n",
       "        vertical-align: top;\n",
       "    }\n",
       "\n",
       "    .dataframe thead th {\n",
       "        text-align: right;\n",
       "    }\n",
       "</style>\n",
       "<table border=\"1\" class=\"dataframe\">\n",
       "  <thead>\n",
       "    <tr style=\"text-align: right;\">\n",
       "      <th></th>\n",
       "      <th>Make</th>\n",
       "      <th>Model</th>\n",
       "      <th>KM's driven</th>\n",
       "      <th>Price</th>\n",
       "      <th>Fuel</th>\n",
       "      <th>Car documents</th>\n",
       "      <th>Assembly</th>\n",
       "      <th>Transmission</th>\n",
       "      <th>Condition</th>\n",
       "      <th>Years_used</th>\n",
       "    </tr>\n",
       "  </thead>\n",
       "  <tbody>\n",
       "    <tr>\n",
       "      <th>0</th>\n",
       "      <td>0</td>\n",
       "      <td>0</td>\n",
       "      <td>54000</td>\n",
       "      <td>4190000</td>\n",
       "      <td>0</td>\n",
       "      <td>1</td>\n",
       "      <td>Imported</td>\n",
       "      <td>Automatic</td>\n",
       "      <td>Used</td>\n",
       "      <td>3</td>\n",
       "    </tr>\n",
       "    <tr>\n",
       "      <th>1</th>\n",
       "      <td>1</td>\n",
       "      <td>1</td>\n",
       "      <td>95000</td>\n",
       "      <td>1300000</td>\n",
       "      <td>0</td>\n",
       "      <td>1</td>\n",
       "      <td>Local</td>\n",
       "      <td>Manual</td>\n",
       "      <td>Used</td>\n",
       "      <td>6</td>\n",
       "    </tr>\n",
       "    <tr>\n",
       "      <th>2</th>\n",
       "      <td>1</td>\n",
       "      <td>2</td>\n",
       "      <td>50000</td>\n",
       "      <td>800000</td>\n",
       "      <td>0</td>\n",
       "      <td>1</td>\n",
       "      <td>Local</td>\n",
       "      <td>Manual</td>\n",
       "      <td>Used</td>\n",
       "      <td>9</td>\n",
       "    </tr>\n",
       "    <tr>\n",
       "      <th>3</th>\n",
       "      <td>2</td>\n",
       "      <td>3</td>\n",
       "      <td>94000</td>\n",
       "      <td>2155000</td>\n",
       "      <td>0</td>\n",
       "      <td>1</td>\n",
       "      <td>Imported</td>\n",
       "      <td>Automatic</td>\n",
       "      <td>Used</td>\n",
       "      <td>11</td>\n",
       "    </tr>\n",
       "    <tr>\n",
       "      <th>4</th>\n",
       "      <td>1</td>\n",
       "      <td>4</td>\n",
       "      <td>126544</td>\n",
       "      <td>1440000</td>\n",
       "      <td>0</td>\n",
       "      <td>1</td>\n",
       "      <td>Local</td>\n",
       "      <td>Manual</td>\n",
       "      <td>Used</td>\n",
       "      <td>13</td>\n",
       "    </tr>\n",
       "  </tbody>\n",
       "</table>\n",
       "</div>"
      ],
      "text/plain": [
       "   Make  Model  KM's driven    Price  Fuel  Car documents  Assembly  \\\n",
       "0     0      0        54000  4190000     0              1  Imported   \n",
       "1     1      1        95000  1300000     0              1     Local   \n",
       "2     1      2        50000   800000     0              1     Local   \n",
       "3     2      3        94000  2155000     0              1  Imported   \n",
       "4     1      4       126544  1440000     0              1     Local   \n",
       "\n",
       "  Transmission Condition  Years_used  \n",
       "0    Automatic      Used           3  \n",
       "1       Manual      Used           6  \n",
       "2       Manual      Used           9  \n",
       "3    Automatic      Used          11  \n",
       "4       Manual      Used          13  "
      ]
     },
     "execution_count": 34,
     "metadata": {},
     "output_type": "execute_result"
    }
   ],
   "source": [
    "df.head()"
   ]
  },
  {
   "cell_type": "code",
   "execution_count": 35,
   "id": "165d9992",
   "metadata": {},
   "outputs": [
    {
     "data": {
      "text/plain": [
       "array(['Imported', 'Local'], dtype=object)"
      ]
     },
     "execution_count": 35,
     "metadata": {},
     "output_type": "execute_result"
    }
   ],
   "source": [
    "df['Assembly'].unique()"
   ]
  },
  {
   "cell_type": "code",
   "execution_count": 36,
   "id": "d0dded58",
   "metadata": {},
   "outputs": [],
   "source": [
    "df['Assembly']=df['Assembly'].map({'Imported':0, 'Local':1})"
   ]
  },
  {
   "cell_type": "code",
   "execution_count": 37,
   "id": "70fd9fc5",
   "metadata": {},
   "outputs": [
    {
     "data": {
      "text/plain": [
       "array([0, 1], dtype=int64)"
      ]
     },
     "execution_count": 37,
     "metadata": {},
     "output_type": "execute_result"
    }
   ],
   "source": [
    "df['Assembly'].unique()"
   ]
  },
  {
   "cell_type": "code",
   "execution_count": 38,
   "id": "fee03f74",
   "metadata": {},
   "outputs": [
    {
     "data": {
      "text/plain": [
       "array(['Automatic', 'Manual'], dtype=object)"
      ]
     },
     "execution_count": 38,
     "metadata": {},
     "output_type": "execute_result"
    }
   ],
   "source": [
    "df['Transmission'].unique()"
   ]
  },
  {
   "cell_type": "code",
   "execution_count": 39,
   "id": "5e760599",
   "metadata": {},
   "outputs": [],
   "source": [
    "df['Transmission']=df['Transmission'].map({'Automatic':1, 'Manual':0})"
   ]
  },
  {
   "cell_type": "code",
   "execution_count": 40,
   "id": "9e456183",
   "metadata": {},
   "outputs": [
    {
     "data": {
      "text/html": [
       "<div>\n",
       "<style scoped>\n",
       "    .dataframe tbody tr th:only-of-type {\n",
       "        vertical-align: middle;\n",
       "    }\n",
       "\n",
       "    .dataframe tbody tr th {\n",
       "        vertical-align: top;\n",
       "    }\n",
       "\n",
       "    .dataframe thead th {\n",
       "        text-align: right;\n",
       "    }\n",
       "</style>\n",
       "<table border=\"1\" class=\"dataframe\">\n",
       "  <thead>\n",
       "    <tr style=\"text-align: right;\">\n",
       "      <th></th>\n",
       "      <th>Make</th>\n",
       "      <th>Model</th>\n",
       "      <th>KM's driven</th>\n",
       "      <th>Price</th>\n",
       "      <th>Fuel</th>\n",
       "      <th>Car documents</th>\n",
       "      <th>Assembly</th>\n",
       "      <th>Transmission</th>\n",
       "      <th>Condition</th>\n",
       "      <th>Years_used</th>\n",
       "    </tr>\n",
       "  </thead>\n",
       "  <tbody>\n",
       "    <tr>\n",
       "      <th>0</th>\n",
       "      <td>0</td>\n",
       "      <td>0</td>\n",
       "      <td>54000</td>\n",
       "      <td>4190000</td>\n",
       "      <td>0</td>\n",
       "      <td>1</td>\n",
       "      <td>0</td>\n",
       "      <td>1</td>\n",
       "      <td>Used</td>\n",
       "      <td>3</td>\n",
       "    </tr>\n",
       "    <tr>\n",
       "      <th>1</th>\n",
       "      <td>1</td>\n",
       "      <td>1</td>\n",
       "      <td>95000</td>\n",
       "      <td>1300000</td>\n",
       "      <td>0</td>\n",
       "      <td>1</td>\n",
       "      <td>1</td>\n",
       "      <td>0</td>\n",
       "      <td>Used</td>\n",
       "      <td>6</td>\n",
       "    </tr>\n",
       "    <tr>\n",
       "      <th>2</th>\n",
       "      <td>1</td>\n",
       "      <td>2</td>\n",
       "      <td>50000</td>\n",
       "      <td>800000</td>\n",
       "      <td>0</td>\n",
       "      <td>1</td>\n",
       "      <td>1</td>\n",
       "      <td>0</td>\n",
       "      <td>Used</td>\n",
       "      <td>9</td>\n",
       "    </tr>\n",
       "    <tr>\n",
       "      <th>3</th>\n",
       "      <td>2</td>\n",
       "      <td>3</td>\n",
       "      <td>94000</td>\n",
       "      <td>2155000</td>\n",
       "      <td>0</td>\n",
       "      <td>1</td>\n",
       "      <td>0</td>\n",
       "      <td>1</td>\n",
       "      <td>Used</td>\n",
       "      <td>11</td>\n",
       "    </tr>\n",
       "    <tr>\n",
       "      <th>4</th>\n",
       "      <td>1</td>\n",
       "      <td>4</td>\n",
       "      <td>126544</td>\n",
       "      <td>1440000</td>\n",
       "      <td>0</td>\n",
       "      <td>1</td>\n",
       "      <td>1</td>\n",
       "      <td>0</td>\n",
       "      <td>Used</td>\n",
       "      <td>13</td>\n",
       "    </tr>\n",
       "  </tbody>\n",
       "</table>\n",
       "</div>"
      ],
      "text/plain": [
       "   Make  Model  KM's driven    Price  Fuel  Car documents  Assembly  \\\n",
       "0     0      0        54000  4190000     0              1         0   \n",
       "1     1      1        95000  1300000     0              1         1   \n",
       "2     1      2        50000   800000     0              1         1   \n",
       "3     2      3        94000  2155000     0              1         0   \n",
       "4     1      4       126544  1440000     0              1         1   \n",
       "\n",
       "   Transmission Condition  Years_used  \n",
       "0             1      Used           3  \n",
       "1             0      Used           6  \n",
       "2             0      Used           9  \n",
       "3             1      Used          11  \n",
       "4             0      Used          13  "
      ]
     },
     "execution_count": 40,
     "metadata": {},
     "output_type": "execute_result"
    }
   ],
   "source": [
    "df.head()"
   ]
  },
  {
   "cell_type": "code",
   "execution_count": 41,
   "id": "4413e181",
   "metadata": {},
   "outputs": [
    {
     "data": {
      "text/plain": [
       "array(['Used'], dtype=object)"
      ]
     },
     "execution_count": 41,
     "metadata": {},
     "output_type": "execute_result"
    }
   ],
   "source": [
    "df['Condition'].unique()"
   ]
  },
  {
   "cell_type": "code",
   "execution_count": 42,
   "id": "ae95a0b7",
   "metadata": {},
   "outputs": [],
   "source": [
    "df.drop(['Condition'],axis=1,inplace=True)"
   ]
  },
  {
   "cell_type": "code",
   "execution_count": 43,
   "id": "a56dd9ff",
   "metadata": {},
   "outputs": [
    {
     "name": "stdout",
     "output_type": "stream",
     "text": [
      "<class 'pandas.core.frame.DataFrame'>\n",
      "RangeIndex: 9179 entries, 0 to 9178\n",
      "Data columns (total 9 columns):\n",
      " #   Column         Non-Null Count  Dtype\n",
      "---  ------         --------------  -----\n",
      " 0   Make           9179 non-null   int32\n",
      " 1   Model          9179 non-null   int64\n",
      " 2   KM's driven    9179 non-null   int64\n",
      " 3   Price          9179 non-null   int64\n",
      " 4   Fuel           9179 non-null   int64\n",
      " 5   Car documents  9179 non-null   int64\n",
      " 6   Assembly       9179 non-null   int64\n",
      " 7   Transmission   9179 non-null   int64\n",
      " 8   Years_used     9179 non-null   int64\n",
      "dtypes: int32(1), int64(8)\n",
      "memory usage: 609.7 KB\n"
     ]
    }
   ],
   "source": [
    "df.info()"
   ]
  },
  {
   "cell_type": "code",
   "execution_count": 44,
   "id": "4a2c0aeb",
   "metadata": {},
   "outputs": [
    {
     "data": {
      "text/plain": [
       "Make             0\n",
       "Model            0\n",
       "KM's driven      0\n",
       "Price            0\n",
       "Fuel             0\n",
       "Car documents    0\n",
       "Assembly         0\n",
       "Transmission     0\n",
       "Years_used       0\n",
       "dtype: int64"
      ]
     },
     "execution_count": 44,
     "metadata": {},
     "output_type": "execute_result"
    }
   ],
   "source": [
    "df.isnull().sum()"
   ]
  },
  {
   "cell_type": "code",
   "execution_count": 45,
   "id": "2c1a2aba",
   "metadata": {},
   "outputs": [],
   "source": [
    "X=df\n",
    "y=df['Price']"
   ]
  },
  {
   "cell_type": "code",
   "execution_count": 46,
   "id": "9ce16771",
   "metadata": {},
   "outputs": [],
   "source": [
    "from sklearn.model_selection import train_test_split\n",
    "X_train, X_test, y_train, y_test=train_test_split(X,y,test_size=0.30,random_state=42)"
   ]
  },
  {
   "cell_type": "code",
   "execution_count": 47,
   "id": "53862ddc",
   "metadata": {},
   "outputs": [],
   "source": [
    "from sklearn.preprocessing import StandardScaler\n",
    "scaler=StandardScaler()"
   ]
  },
  {
   "cell_type": "code",
   "execution_count": 48,
   "id": "2aeb9ffb",
   "metadata": {},
   "outputs": [],
   "source": [
    "X_train=scaler.fit_transform(X_train)\n",
    "X_test=scaler.transform(X_test)"
   ]
  },
  {
   "cell_type": "code",
   "execution_count": 49,
   "id": "bca9f304",
   "metadata": {},
   "outputs": [],
   "source": [
    "from sklearn.linear_model import LinearRegression\n",
    "from sklearn.model_selection import cross_val_score"
   ]
  },
  {
   "cell_type": "code",
   "execution_count": 50,
   "id": "3bbb3863",
   "metadata": {},
   "outputs": [
    {
     "data": {
      "text/html": [
       "<style>#sk-container-id-1 {color: black;}#sk-container-id-1 pre{padding: 0;}#sk-container-id-1 div.sk-toggleable {background-color: white;}#sk-container-id-1 label.sk-toggleable__label {cursor: pointer;display: block;width: 100%;margin-bottom: 0;padding: 0.3em;box-sizing: border-box;text-align: center;}#sk-container-id-1 label.sk-toggleable__label-arrow:before {content: \"▸\";float: left;margin-right: 0.25em;color: #696969;}#sk-container-id-1 label.sk-toggleable__label-arrow:hover:before {color: black;}#sk-container-id-1 div.sk-estimator:hover label.sk-toggleable__label-arrow:before {color: black;}#sk-container-id-1 div.sk-toggleable__content {max-height: 0;max-width: 0;overflow: hidden;text-align: left;background-color: #f0f8ff;}#sk-container-id-1 div.sk-toggleable__content pre {margin: 0.2em;color: black;border-radius: 0.25em;background-color: #f0f8ff;}#sk-container-id-1 input.sk-toggleable__control:checked~div.sk-toggleable__content {max-height: 200px;max-width: 100%;overflow: auto;}#sk-container-id-1 input.sk-toggleable__control:checked~label.sk-toggleable__label-arrow:before {content: \"▾\";}#sk-container-id-1 div.sk-estimator input.sk-toggleable__control:checked~label.sk-toggleable__label {background-color: #d4ebff;}#sk-container-id-1 div.sk-label input.sk-toggleable__control:checked~label.sk-toggleable__label {background-color: #d4ebff;}#sk-container-id-1 input.sk-hidden--visually {border: 0;clip: rect(1px 1px 1px 1px);clip: rect(1px, 1px, 1px, 1px);height: 1px;margin: -1px;overflow: hidden;padding: 0;position: absolute;width: 1px;}#sk-container-id-1 div.sk-estimator {font-family: monospace;background-color: #f0f8ff;border: 1px dotted black;border-radius: 0.25em;box-sizing: border-box;margin-bottom: 0.5em;}#sk-container-id-1 div.sk-estimator:hover {background-color: #d4ebff;}#sk-container-id-1 div.sk-parallel-item::after {content: \"\";width: 100%;border-bottom: 1px solid gray;flex-grow: 1;}#sk-container-id-1 div.sk-label:hover label.sk-toggleable__label {background-color: #d4ebff;}#sk-container-id-1 div.sk-serial::before {content: \"\";position: absolute;border-left: 1px solid gray;box-sizing: border-box;top: 0;bottom: 0;left: 50%;z-index: 0;}#sk-container-id-1 div.sk-serial {display: flex;flex-direction: column;align-items: center;background-color: white;padding-right: 0.2em;padding-left: 0.2em;position: relative;}#sk-container-id-1 div.sk-item {position: relative;z-index: 1;}#sk-container-id-1 div.sk-parallel {display: flex;align-items: stretch;justify-content: center;background-color: white;position: relative;}#sk-container-id-1 div.sk-item::before, #sk-container-id-1 div.sk-parallel-item::before {content: \"\";position: absolute;border-left: 1px solid gray;box-sizing: border-box;top: 0;bottom: 0;left: 50%;z-index: -1;}#sk-container-id-1 div.sk-parallel-item {display: flex;flex-direction: column;z-index: 1;position: relative;background-color: white;}#sk-container-id-1 div.sk-parallel-item:first-child::after {align-self: flex-end;width: 50%;}#sk-container-id-1 div.sk-parallel-item:last-child::after {align-self: flex-start;width: 50%;}#sk-container-id-1 div.sk-parallel-item:only-child::after {width: 0;}#sk-container-id-1 div.sk-dashed-wrapped {border: 1px dashed gray;margin: 0 0.4em 0.5em 0.4em;box-sizing: border-box;padding-bottom: 0.4em;background-color: white;}#sk-container-id-1 div.sk-label label {font-family: monospace;font-weight: bold;display: inline-block;line-height: 1.2em;}#sk-container-id-1 div.sk-label-container {text-align: center;}#sk-container-id-1 div.sk-container {/* jupyter's `normalize.less` sets `[hidden] { display: none; }` but bootstrap.min.css set `[hidden] { display: none !important; }` so we also need the `!important` here to be able to override the default hidden behavior on the sphinx rendered scikit-learn.org. See: https://github.com/scikit-learn/scikit-learn/issues/21755 */display: inline-block !important;position: relative;}#sk-container-id-1 div.sk-text-repr-fallback {display: none;}</style><div id=\"sk-container-id-1\" class=\"sk-top-container\"><div class=\"sk-text-repr-fallback\"><pre>LinearRegression()</pre><b>In a Jupyter environment, please rerun this cell to show the HTML representation or trust the notebook. <br />On GitHub, the HTML representation is unable to render, please try loading this page with nbviewer.org.</b></div><div class=\"sk-container\" hidden><div class=\"sk-item\"><div class=\"sk-estimator sk-toggleable\"><input class=\"sk-toggleable__control sk-hidden--visually\" id=\"sk-estimator-id-1\" type=\"checkbox\" checked><label for=\"sk-estimator-id-1\" class=\"sk-toggleable__label sk-toggleable__label-arrow\">LinearRegression</label><div class=\"sk-toggleable__content\"><pre>LinearRegression()</pre></div></div></div></div></div>"
      ],
      "text/plain": [
       "LinearRegression()"
      ]
     },
     "execution_count": 50,
     "metadata": {},
     "output_type": "execute_result"
    }
   ],
   "source": [
    "regression=LinearRegression()\n",
    "regression.fit(X_train, y_train)"
   ]
  },
  {
   "cell_type": "code",
   "execution_count": 51,
   "id": "3a867b88",
   "metadata": {},
   "outputs": [],
   "source": [
    "from sklearn.model_selection import cross_val_score"
   ]
  },
  {
   "cell_type": "code",
   "execution_count": 52,
   "id": "78fe7ec6",
   "metadata": {},
   "outputs": [],
   "source": [
    "mse=cross_val_score(regression,X_train,y_train,scoring='neg_mean_squared_error',cv=10)"
   ]
  },
  {
   "cell_type": "code",
   "execution_count": 53,
   "id": "10ece8a7",
   "metadata": {},
   "outputs": [
    {
     "data": {
      "text/plain": [
       "array([-1.39658476e-18, -4.92064229e-18, -4.91389764e-19, -7.35564992e-18,\n",
       "       -3.72726112e-19, -2.83239374e-18, -1.34944751e-18, -9.74684243e-19,\n",
       "       -2.35079350e-18, -4.10692236e-19])"
      ]
     },
     "execution_count": 53,
     "metadata": {},
     "output_type": "execute_result"
    }
   ],
   "source": [
    "mse"
   ]
  },
  {
   "cell_type": "code",
   "execution_count": 54,
   "id": "daae90fd",
   "metadata": {},
   "outputs": [
    {
     "data": {
      "text/plain": [
       "-2.2455004061952446e-18"
      ]
     },
     "execution_count": 54,
     "metadata": {},
     "output_type": "execute_result"
    }
   ],
   "source": [
    "np.mean(mse)"
   ]
  },
  {
   "cell_type": "code",
   "execution_count": 56,
   "id": "3c469bc8",
   "metadata": {},
   "outputs": [],
   "source": [
    "reg_pred=regression.predict(X_test)"
   ]
  },
  {
   "cell_type": "code",
   "execution_count": 57,
   "id": "51707dfd",
   "metadata": {},
   "outputs": [
    {
     "data": {
      "text/plain": [
       "array([4090000., 1650000., 4080000., ...,  420000.,  960000.,  799998.])"
      ]
     },
     "execution_count": 57,
     "metadata": {},
     "output_type": "execute_result"
    }
   ],
   "source": [
    "reg_pred"
   ]
  },
  {
   "cell_type": "code",
   "execution_count": 58,
   "id": "ff220e90",
   "metadata": {},
   "outputs": [],
   "source": [
    "from sklearn.metrics import r2_score"
   ]
  },
  {
   "cell_type": "code",
   "execution_count": 60,
   "id": "e747f9b9",
   "metadata": {},
   "outputs": [],
   "source": [
    "score=r2_score(reg_pred,y_test)"
   ]
  },
  {
   "cell_type": "code",
   "execution_count": 61,
   "id": "7d8cd6dc",
   "metadata": {},
   "outputs": [
    {
     "data": {
      "text/plain": [
       "1.0"
      ]
     },
     "execution_count": 61,
     "metadata": {},
     "output_type": "execute_result"
    }
   ],
   "source": [
    "score"
   ]
  },
  {
   "cell_type": "code",
   "execution_count": 65,
   "id": "c75f068e",
   "metadata": {},
   "outputs": [
    {
     "name": "stderr",
     "output_type": "stream",
     "text": [
      "C:\\Users\\dell\\anaconda3\\Lib\\site-packages\\seaborn\\axisgrid.py:118: UserWarning: The figure layout has changed to tight\n",
      "  self._figure.tight_layout(*args, **kwargs)\n"
     ]
    },
    {
     "data": {
      "text/plain": [
       "<seaborn.axisgrid.FacetGrid at 0x1dcf36a36d0>"
      ]
     },
     "execution_count": 65,
     "metadata": {},
     "output_type": "execute_result"
    },
    {
     "data": {
      "image/png": "[encoded data removed]",
      "text/plain": [
       "<Figure size 500x500 with 1 Axes>"
      ]
     },
     "metadata": {},
     "output_type": "display_data"
    }
   ],
   "source": [
    "import seaborn as sns\n",
    "sns.displot(reg_pred-y_test,kind='kde')"
   ]
  },
  {
   "cell_type": "code",
   "execution_count": null,
   "id": "1be30b27",
   "metadata": {},
   "outputs": [],
   "source": []
  }
 ],
 "metadata": {
  "kernelspec": {
   "display_name": "Python 3 (ipykernel)",
   "language": "python",
   "name": "python3"
  },
  "language_info": {
   "codemirror_mode": {
    "name": "ipython",
    "version": 3
   },
   "file_extension": ".py",
   "mimetype": "text/x-python",
   "name": "python",
   "nbconvert_exporter": "python",
   "pygments_lexer": "ipython3",
   "version": "3.11.5"
  }
 },
 "nbformat": 4,
 "nbformat_minor": 5
}
